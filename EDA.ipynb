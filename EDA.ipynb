{
 "cells": [
  {
   "cell_type": "code",
   "execution_count": 126,
   "id": "c8a4232c",
   "metadata": {},
   "outputs": [],
   "source": [
    "import pandas as pd\n",
    "from sklearn.preprocessing import LabelEncoder\n",
    "from sklearn.preprocessing import MinMaxScaler\n",
    "from sklearn.model_selection import train_test_split\n",
    "from sklearn.naive_bayes import GaussianNB\n",
    "from sklearn.metrics import classification_report, confusion_matrix\n",
    "scaler = MinMaxScaler()"
   ]
  },
  {
   "cell_type": "code",
   "execution_count": 127,
   "id": "b7c8c36b",
   "metadata": {},
   "outputs": [
    {
     "data": {
      "text/html": [
       "<div>\n",
       "<style scoped>\n",
       "    .dataframe tbody tr th:only-of-type {\n",
       "        vertical-align: middle;\n",
       "    }\n",
       "\n",
       "    .dataframe tbody tr th {\n",
       "        vertical-align: top;\n",
       "    }\n",
       "\n",
       "    .dataframe thead th {\n",
       "        text-align: right;\n",
       "    }\n",
       "</style>\n",
       "<table border=\"1\" class=\"dataframe\">\n",
       "  <thead>\n",
       "    <tr style=\"text-align: right;\">\n",
       "      <th></th>\n",
       "      <th>TransactionID</th>\n",
       "      <th>Time</th>\n",
       "      <th>Amount</th>\n",
       "      <th>CardholderName</th>\n",
       "      <th>MerchantName</th>\n",
       "      <th>MCC</th>\n",
       "      <th>Location</th>\n",
       "      <th>Device</th>\n",
       "      <th>IPAddress</th>\n",
       "      <th>TransactionSpeed</th>\n",
       "      <th>Fraud</th>\n",
       "    </tr>\n",
       "  </thead>\n",
       "  <tbody>\n",
       "    <tr>\n",
       "      <th>0</th>\n",
       "      <td>1</td>\n",
       "      <td>2025-03-09 06:23:57</td>\n",
       "      <td>83.54</td>\n",
       "      <td>Sarah Murray</td>\n",
       "      <td>Oconnor-Hughes</td>\n",
       "      <td>5411</td>\n",
       "      <td>Longtown</td>\n",
       "      <td>Android</td>\n",
       "      <td>102.247.49.50</td>\n",
       "      <td>38.17</td>\n",
       "      <td>0</td>\n",
       "    </tr>\n",
       "    <tr>\n",
       "      <th>1</th>\n",
       "      <td>2</td>\n",
       "      <td>2025-02-14 05:17:36</td>\n",
       "      <td>805.88</td>\n",
       "      <td>Alexander Brooks</td>\n",
       "      <td>Reed PLC</td>\n",
       "      <td>5261</td>\n",
       "      <td>Woodsland</td>\n",
       "      <td>POS</td>\n",
       "      <td>153.157.50.7</td>\n",
       "      <td>49.84</td>\n",
       "      <td>0</td>\n",
       "    </tr>\n",
       "    <tr>\n",
       "      <th>2</th>\n",
       "      <td>3</td>\n",
       "      <td>2024-05-03 15:28:52</td>\n",
       "      <td>450.49</td>\n",
       "      <td>Harold Perez</td>\n",
       "      <td>Berry LLC</td>\n",
       "      <td>5261</td>\n",
       "      <td>Jessicatown</td>\n",
       "      <td>iOS</td>\n",
       "      <td>151.174.154.123</td>\n",
       "      <td>48.79</td>\n",
       "      <td>0</td>\n",
       "    </tr>\n",
       "    <tr>\n",
       "      <th>3</th>\n",
       "      <td>4</td>\n",
       "      <td>2024-05-03 09:01:14</td>\n",
       "      <td>782.39</td>\n",
       "      <td>Rebecca Davis</td>\n",
       "      <td>Berg Inc</td>\n",
       "      <td>5968</td>\n",
       "      <td>North Krystalburgh</td>\n",
       "      <td>Android</td>\n",
       "      <td>130.70.79.149</td>\n",
       "      <td>8.71</td>\n",
       "      <td>0</td>\n",
       "    </tr>\n",
       "    <tr>\n",
       "      <th>4</th>\n",
       "      <td>5</td>\n",
       "      <td>2025-04-24 17:24:39</td>\n",
       "      <td>713.02</td>\n",
       "      <td>Lauren Benson DDS</td>\n",
       "      <td>King-Gaines</td>\n",
       "      <td>5968</td>\n",
       "      <td>East Danielletown</td>\n",
       "      <td>Android</td>\n",
       "      <td>195.136.16.190</td>\n",
       "      <td>17.16</td>\n",
       "      <td>0</td>\n",
       "    </tr>\n",
       "  </tbody>\n",
       "</table>\n",
       "</div>"
      ],
      "text/plain": [
       "   TransactionID                 Time  Amount     CardholderName  \\\n",
       "0              1  2025-03-09 06:23:57   83.54       Sarah Murray   \n",
       "1              2  2025-02-14 05:17:36  805.88   Alexander Brooks   \n",
       "2              3  2024-05-03 15:28:52  450.49       Harold Perez   \n",
       "3              4  2024-05-03 09:01:14  782.39      Rebecca Davis   \n",
       "4              5  2025-04-24 17:24:39  713.02  Lauren Benson DDS   \n",
       "\n",
       "     MerchantName   MCC            Location   Device        IPAddress  \\\n",
       "0  Oconnor-Hughes  5411            Longtown  Android    102.247.49.50   \n",
       "1        Reed PLC  5261           Woodsland      POS     153.157.50.7   \n",
       "2       Berry LLC  5261         Jessicatown      iOS  151.174.154.123   \n",
       "3        Berg Inc  5968  North Krystalburgh  Android    130.70.79.149   \n",
       "4     King-Gaines  5968   East Danielletown  Android   195.136.16.190   \n",
       "\n",
       "   TransactionSpeed  Fraud  \n",
       "0             38.17      0  \n",
       "1             49.84      0  \n",
       "2             48.79      0  \n",
       "3              8.71      0  \n",
       "4             17.16      0  "
      ]
     },
     "execution_count": 127,
     "metadata": {},
     "output_type": "execute_result"
    }
   ],
   "source": [
    "df = pd.read_csv(\"credit_card_transactions.csv\")\n",
    "df.head()"
   ]
  },
  {
   "cell_type": "code",
   "execution_count": 128,
   "id": "e4cd15ba",
   "metadata": {},
   "outputs": [
    {
     "data": {
      "text/plain": [
       "TransactionID         int64\n",
       "Time                 object\n",
       "Amount              float64\n",
       "CardholderName       object\n",
       "MerchantName         object\n",
       "MCC                   int64\n",
       "Location             object\n",
       "Device               object\n",
       "IPAddress            object\n",
       "TransactionSpeed    float64\n",
       "Fraud                 int64\n",
       "dtype: object"
      ]
     },
     "execution_count": 128,
     "metadata": {},
     "output_type": "execute_result"
    }
   ],
   "source": [
    "df.dtypes"
   ]
  },
  {
   "cell_type": "code",
   "execution_count": 129,
   "id": "c14616e9",
   "metadata": {},
   "outputs": [],
   "source": [
    "#Transformacion de datos\n",
    "df['Time'] = pd.to_datetime(df['Time'], errors = 'coerce')\n",
    "df['MCC'] = df['MCC'].astype(object)\n",
    "df['isWeekday'] = df['Time'].dt.weekday\n"
   ]
  },
  {
   "cell_type": "code",
   "execution_count": 130,
   "id": "181f008e",
   "metadata": {},
   "outputs": [],
   "source": [
    "#Nueva feature\n",
    "df['Hour'] = df['Time'].dt.hour"
   ]
  },
  {
   "cell_type": "code",
   "execution_count": 131,
   "id": "390c89cd",
   "metadata": {},
   "outputs": [
    {
     "data": {
      "text/plain": [
       "TransactionID                int64\n",
       "Time                datetime64[ns]\n",
       "Amount                     float64\n",
       "CardholderName              object\n",
       "MerchantName                object\n",
       "MCC                         object\n",
       "Location                    object\n",
       "Device                      object\n",
       "IPAddress                   object\n",
       "TransactionSpeed           float64\n",
       "Fraud                        int64\n",
       "isWeekday                    int32\n",
       "Hour                         int32\n",
       "dtype: object"
      ]
     },
     "execution_count": 131,
     "metadata": {},
     "output_type": "execute_result"
    }
   ],
   "source": [
    "df.dtypes"
   ]
  },
  {
   "cell_type": "code",
   "execution_count": 132,
   "id": "a4272d18",
   "metadata": {},
   "outputs": [
    {
     "data": {
      "text/html": [
       "<div>\n",
       "<style scoped>\n",
       "    .dataframe tbody tr th:only-of-type {\n",
       "        vertical-align: middle;\n",
       "    }\n",
       "\n",
       "    .dataframe tbody tr th {\n",
       "        vertical-align: top;\n",
       "    }\n",
       "\n",
       "    .dataframe thead th {\n",
       "        text-align: right;\n",
       "    }\n",
       "</style>\n",
       "<table border=\"1\" class=\"dataframe\">\n",
       "  <thead>\n",
       "    <tr style=\"text-align: right;\">\n",
       "      <th></th>\n",
       "      <th>TransactionID</th>\n",
       "      <th>Time</th>\n",
       "      <th>Amount</th>\n",
       "      <th>TransactionSpeed</th>\n",
       "      <th>Fraud</th>\n",
       "      <th>isWeekday</th>\n",
       "      <th>Hour</th>\n",
       "    </tr>\n",
       "  </thead>\n",
       "  <tbody>\n",
       "    <tr>\n",
       "      <th>count</th>\n",
       "      <td>10000.00000</td>\n",
       "      <td>10000</td>\n",
       "      <td>10000.000000</td>\n",
       "      <td>10000.000000</td>\n",
       "      <td>10000.000000</td>\n",
       "      <td>10000.000000</td>\n",
       "      <td>10000.000000</td>\n",
       "    </tr>\n",
       "    <tr>\n",
       "      <th>mean</th>\n",
       "      <td>5000.50000</td>\n",
       "      <td>2024-10-30 03:27:20.494300160</td>\n",
       "      <td>547.347491</td>\n",
       "      <td>30.738446</td>\n",
       "      <td>0.019200</td>\n",
       "      <td>2.995400</td>\n",
       "      <td>11.525500</td>\n",
       "    </tr>\n",
       "    <tr>\n",
       "      <th>min</th>\n",
       "      <td>1.00000</td>\n",
       "      <td>2024-05-01 07:29:17</td>\n",
       "      <td>10.090000</td>\n",
       "      <td>0.110000</td>\n",
       "      <td>0.000000</td>\n",
       "      <td>0.000000</td>\n",
       "      <td>0.000000</td>\n",
       "    </tr>\n",
       "    <tr>\n",
       "      <th>25%</th>\n",
       "      <td>2500.75000</td>\n",
       "      <td>2024-07-31 11:55:39.500000</td>\n",
       "      <td>263.222500</td>\n",
       "      <td>14.910000</td>\n",
       "      <td>0.000000</td>\n",
       "      <td>1.000000</td>\n",
       "      <td>6.000000</td>\n",
       "    </tr>\n",
       "    <tr>\n",
       "      <th>50%</th>\n",
       "      <td>5000.50000</td>\n",
       "      <td>2024-10-30 22:49:50</td>\n",
       "      <td>512.240000</td>\n",
       "      <td>29.655000</td>\n",
       "      <td>0.000000</td>\n",
       "      <td>3.000000</td>\n",
       "      <td>12.000000</td>\n",
       "    </tr>\n",
       "    <tr>\n",
       "      <th>75%</th>\n",
       "      <td>7500.25000</td>\n",
       "      <td>2025-01-28 03:57:06.750000128</td>\n",
       "      <td>759.935000</td>\n",
       "      <td>45.270000</td>\n",
       "      <td>0.000000</td>\n",
       "      <td>5.000000</td>\n",
       "      <td>17.000000</td>\n",
       "    </tr>\n",
       "    <tr>\n",
       "      <th>max</th>\n",
       "      <td>10000.00000</td>\n",
       "      <td>2025-05-01 09:39:46</td>\n",
       "      <td>4988.070000</td>\n",
       "      <td>119.860000</td>\n",
       "      <td>1.000000</td>\n",
       "      <td>6.000000</td>\n",
       "      <td>23.000000</td>\n",
       "    </tr>\n",
       "    <tr>\n",
       "      <th>std</th>\n",
       "      <td>2886.89568</td>\n",
       "      <td>NaN</td>\n",
       "      <td>460.047329</td>\n",
       "      <td>19.092345</td>\n",
       "      <td>0.137234</td>\n",
       "      <td>1.991626</td>\n",
       "      <td>6.932341</td>\n",
       "    </tr>\n",
       "  </tbody>\n",
       "</table>\n",
       "</div>"
      ],
      "text/plain": [
       "       TransactionID                           Time        Amount  \\\n",
       "count    10000.00000                          10000  10000.000000   \n",
       "mean      5000.50000  2024-10-30 03:27:20.494300160    547.347491   \n",
       "min          1.00000            2024-05-01 07:29:17     10.090000   \n",
       "25%       2500.75000     2024-07-31 11:55:39.500000    263.222500   \n",
       "50%       5000.50000            2024-10-30 22:49:50    512.240000   \n",
       "75%       7500.25000  2025-01-28 03:57:06.750000128    759.935000   \n",
       "max      10000.00000            2025-05-01 09:39:46   4988.070000   \n",
       "std       2886.89568                            NaN    460.047329   \n",
       "\n",
       "       TransactionSpeed         Fraud     isWeekday          Hour  \n",
       "count      10000.000000  10000.000000  10000.000000  10000.000000  \n",
       "mean          30.738446      0.019200      2.995400     11.525500  \n",
       "min            0.110000      0.000000      0.000000      0.000000  \n",
       "25%           14.910000      0.000000      1.000000      6.000000  \n",
       "50%           29.655000      0.000000      3.000000     12.000000  \n",
       "75%           45.270000      0.000000      5.000000     17.000000  \n",
       "max          119.860000      1.000000      6.000000     23.000000  \n",
       "std           19.092345      0.137234      1.991626      6.932341  "
      ]
     },
     "execution_count": 132,
     "metadata": {},
     "output_type": "execute_result"
    }
   ],
   "source": [
    "df.describe()"
   ]
  },
  {
   "cell_type": "code",
   "execution_count": 133,
   "id": "41ec8523",
   "metadata": {},
   "outputs": [],
   "source": [
    "df = df.drop(['CardholderName','TransactionID' ], axis=1)"
   ]
  },
  {
   "cell_type": "code",
   "execution_count": 134,
   "id": "95b50be3",
   "metadata": {},
   "outputs": [
    {
     "data": {
      "text/html": [
       "<div>\n",
       "<style scoped>\n",
       "    .dataframe tbody tr th:only-of-type {\n",
       "        vertical-align: middle;\n",
       "    }\n",
       "\n",
       "    .dataframe tbody tr th {\n",
       "        vertical-align: top;\n",
       "    }\n",
       "\n",
       "    .dataframe thead th {\n",
       "        text-align: right;\n",
       "    }\n",
       "</style>\n",
       "<table border=\"1\" class=\"dataframe\">\n",
       "  <thead>\n",
       "    <tr style=\"text-align: right;\">\n",
       "      <th></th>\n",
       "      <th>Time</th>\n",
       "      <th>Amount</th>\n",
       "      <th>MerchantName</th>\n",
       "      <th>MCC</th>\n",
       "      <th>Location</th>\n",
       "      <th>Device</th>\n",
       "      <th>IPAddress</th>\n",
       "      <th>TransactionSpeed</th>\n",
       "      <th>Fraud</th>\n",
       "      <th>isWeekday</th>\n",
       "      <th>Hour</th>\n",
       "    </tr>\n",
       "  </thead>\n",
       "  <tbody>\n",
       "    <tr>\n",
       "      <th>0</th>\n",
       "      <td>2025-03-09 06:23:57</td>\n",
       "      <td>83.54</td>\n",
       "      <td>Oconnor-Hughes</td>\n",
       "      <td>5411</td>\n",
       "      <td>Longtown</td>\n",
       "      <td>Android</td>\n",
       "      <td>102.247.49.50</td>\n",
       "      <td>38.17</td>\n",
       "      <td>0</td>\n",
       "      <td>6</td>\n",
       "      <td>6</td>\n",
       "    </tr>\n",
       "    <tr>\n",
       "      <th>1</th>\n",
       "      <td>2025-02-14 05:17:36</td>\n",
       "      <td>805.88</td>\n",
       "      <td>Reed PLC</td>\n",
       "      <td>5261</td>\n",
       "      <td>Woodsland</td>\n",
       "      <td>POS</td>\n",
       "      <td>153.157.50.7</td>\n",
       "      <td>49.84</td>\n",
       "      <td>0</td>\n",
       "      <td>4</td>\n",
       "      <td>5</td>\n",
       "    </tr>\n",
       "    <tr>\n",
       "      <th>2</th>\n",
       "      <td>2024-05-03 15:28:52</td>\n",
       "      <td>450.49</td>\n",
       "      <td>Berry LLC</td>\n",
       "      <td>5261</td>\n",
       "      <td>Jessicatown</td>\n",
       "      <td>iOS</td>\n",
       "      <td>151.174.154.123</td>\n",
       "      <td>48.79</td>\n",
       "      <td>0</td>\n",
       "      <td>4</td>\n",
       "      <td>15</td>\n",
       "    </tr>\n",
       "    <tr>\n",
       "      <th>3</th>\n",
       "      <td>2024-05-03 09:01:14</td>\n",
       "      <td>782.39</td>\n",
       "      <td>Berg Inc</td>\n",
       "      <td>5968</td>\n",
       "      <td>North Krystalburgh</td>\n",
       "      <td>Android</td>\n",
       "      <td>130.70.79.149</td>\n",
       "      <td>8.71</td>\n",
       "      <td>0</td>\n",
       "      <td>4</td>\n",
       "      <td>9</td>\n",
       "    </tr>\n",
       "    <tr>\n",
       "      <th>4</th>\n",
       "      <td>2025-04-24 17:24:39</td>\n",
       "      <td>713.02</td>\n",
       "      <td>King-Gaines</td>\n",
       "      <td>5968</td>\n",
       "      <td>East Danielletown</td>\n",
       "      <td>Android</td>\n",
       "      <td>195.136.16.190</td>\n",
       "      <td>17.16</td>\n",
       "      <td>0</td>\n",
       "      <td>3</td>\n",
       "      <td>17</td>\n",
       "    </tr>\n",
       "  </tbody>\n",
       "</table>\n",
       "</div>"
      ],
      "text/plain": [
       "                 Time  Amount    MerchantName   MCC            Location  \\\n",
       "0 2025-03-09 06:23:57   83.54  Oconnor-Hughes  5411            Longtown   \n",
       "1 2025-02-14 05:17:36  805.88        Reed PLC  5261           Woodsland   \n",
       "2 2024-05-03 15:28:52  450.49       Berry LLC  5261         Jessicatown   \n",
       "3 2024-05-03 09:01:14  782.39        Berg Inc  5968  North Krystalburgh   \n",
       "4 2025-04-24 17:24:39  713.02     King-Gaines  5968   East Danielletown   \n",
       "\n",
       "    Device        IPAddress  TransactionSpeed  Fraud  isWeekday  Hour  \n",
       "0  Android    102.247.49.50             38.17      0          6     6  \n",
       "1      POS     153.157.50.7             49.84      0          4     5  \n",
       "2      iOS  151.174.154.123             48.79      0          4    15  \n",
       "3  Android    130.70.79.149              8.71      0          4     9  \n",
       "4  Android   195.136.16.190             17.16      0          3    17  "
      ]
     },
     "execution_count": 134,
     "metadata": {},
     "output_type": "execute_result"
    }
   ],
   "source": [
    "df.head()"
   ]
  },
  {
   "cell_type": "code",
   "execution_count": 135,
   "id": "4db0d24a",
   "metadata": {},
   "outputs": [
    {
     "data": {
      "text/plain": [
       "Time                0\n",
       "Amount              0\n",
       "MerchantName        0\n",
       "MCC                 0\n",
       "Location            0\n",
       "Device              0\n",
       "IPAddress           0\n",
       "TransactionSpeed    0\n",
       "Fraud               0\n",
       "isWeekday           0\n",
       "Hour                0\n",
       "dtype: int64"
      ]
     },
     "execution_count": 135,
     "metadata": {},
     "output_type": "execute_result"
    }
   ],
   "source": [
    "df.isna().sum()"
   ]
  },
  {
   "cell_type": "code",
   "execution_count": 136,
   "id": "39b1e1fc",
   "metadata": {},
   "outputs": [],
   "source": [
    "\n",
    "categoricFeatures = ['MerchantName','Location', 'IPAddress', 'MCC', 'Device']\n",
    "numericFeatures = ['Amount', 'Hour', 'TransactionSpeed']\n",
    "\n",
    "#Normalizacion para categoricas\n",
    "for col in categoricFeatures:\n",
    "      df[col] = LabelEncoder().fit_transform(df[col])\n",
    "\n",
    "#Normalizacion para numericas\n",
    "df[numericFeatures] = scaler.fit_transform(df[numericFeatures])"
   ]
  },
  {
   "cell_type": "code",
   "execution_count": 137,
   "id": "a524f5ba",
   "metadata": {},
   "outputs": [],
   "source": [
    "#Aislamos labels\n",
    "x = df.drop(['Fraud','Time'], axis= 1 )\n",
    "y = df['Fraud']"
   ]
  },
  {
   "cell_type": "code",
   "execution_count": 138,
   "id": "6740f7b6",
   "metadata": {},
   "outputs": [],
   "source": [
    "#Split test and test\n",
    "X_train, X_test, y_train, y_test = train_test_split(x, y, test_size=0.2, random_state=42)\n",
    "\n",
    "model = GaussianNB()\n",
    "model.fit(X_train, y_train)\n",
    "y_pred = model.predict(X_test)"
   ]
  },
  {
   "cell_type": "code",
   "execution_count": 139,
   "id": "cd3c21ff",
   "metadata": {},
   "outputs": [
    {
     "name": "stdout",
     "output_type": "stream",
     "text": [
      "              precision    recall  f1-score   support\n",
      "\n",
      "           0       1.00      1.00      1.00      1953\n",
      "           1       1.00      0.85      0.92        47\n",
      "\n",
      "    accuracy                           1.00      2000\n",
      "   macro avg       1.00      0.93      0.96      2000\n",
      "weighted avg       1.00      1.00      1.00      2000\n",
      "\n"
     ]
    }
   ],
   "source": [
    "print(classification_report(y_test, y_pred))"
   ]
  },
  {
   "cell_type": "code",
   "execution_count": 140,
   "id": "ab38da8c",
   "metadata": {},
   "outputs": [
    {
     "name": "stdout",
     "output_type": "stream",
     "text": [
      "[[1953    0]\n",
      " [   7   40]]\n"
     ]
    }
   ],
   "source": [
    "print(confusion_matrix(y_test, y_pred))\n"
   ]
  },
  {
   "cell_type": "code",
   "execution_count": 141,
   "id": "5bb360e8",
   "metadata": {},
   "outputs": [
    {
     "name": "stdout",
     "output_type": "stream",
     "text": [
      "              precision    recall  f1-score   support\n",
      "\n",
      "           0       1.00      1.00      1.00      1953\n",
      "           1       1.00      0.85      0.92        47\n",
      "\n",
      "    accuracy                           1.00      2000\n",
      "   macro avg       1.00      0.93      0.96      2000\n",
      "weighted avg       1.00      1.00      1.00      2000\n",
      "\n"
     ]
    }
   ],
   "source": [
    "#Data horriblemente desbalanceada xd\n",
    "\n",
    "print(classification_report(y_test, y_pred))"
   ]
  }
 ],
 "metadata": {
  "kernelspec": {
   "display_name": "uni",
   "language": "python",
   "name": "python3"
  },
  "language_info": {
   "codemirror_mode": {
    "name": "ipython",
    "version": 3
   },
   "file_extension": ".py",
   "mimetype": "text/x-python",
   "name": "python",
   "nbconvert_exporter": "python",
   "pygments_lexer": "ipython3",
   "version": "3.11.11"
  }
 },
 "nbformat": 4,
 "nbformat_minor": 5
}
