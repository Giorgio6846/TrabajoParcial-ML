{
 "cells": [
  {
   "cell_type": "code",
   "execution_count": 146,
   "id": "c8a4232c",
   "metadata": {},
   "outputs": [],
   "source": [
    "import pandas as pd\n",
    "from sklearn.preprocessing import LabelEncoder\n",
    "from sklearn.feature_selection import SelectKBest, chi2\n",
    "from sklearn.model_selection import train_test_split\n",
    "from sklearn.naive_bayes import GaussianNB\n",
    "from sklearn.metrics import classification_report, confusion_matrix\n",
    "from imblearn.under_sampling import NearMiss\n",
    "from matplotlib import pyplot as plt\n",
    "import seaborn as sns\n",
    "import numpy as np\n",
    "from sklearn.metrics import roc_curve, auc\n",
    "\n",
    "from sklearn.preprocessing import MinMaxScaler\n",
    "scaler = MinMaxScaler()"
   ]
  },
  {
   "cell_type": "code",
   "execution_count": 147,
   "id": "b7c8c36b",
   "metadata": {},
   "outputs": [
    {
     "data": {
      "text/html": [
       "<div>\n",
       "<style scoped>\n",
       "    .dataframe tbody tr th:only-of-type {\n",
       "        vertical-align: middle;\n",
       "    }\n",
       "\n",
       "    .dataframe tbody tr th {\n",
       "        vertical-align: top;\n",
       "    }\n",
       "\n",
       "    .dataframe thead th {\n",
       "        text-align: right;\n",
       "    }\n",
       "</style>\n",
       "<table border=\"1\" class=\"dataframe\">\n",
       "  <thead>\n",
       "    <tr style=\"text-align: right;\">\n",
       "      <th></th>\n",
       "      <th>TransactionID</th>\n",
       "      <th>Time</th>\n",
       "      <th>Amount</th>\n",
       "      <th>CardholderName</th>\n",
       "      <th>MerchantName</th>\n",
       "      <th>MCC</th>\n",
       "      <th>Location</th>\n",
       "      <th>Device</th>\n",
       "      <th>IPAddress</th>\n",
       "      <th>TransactionSpeed</th>\n",
       "      <th>Fraud</th>\n",
       "    </tr>\n",
       "  </thead>\n",
       "  <tbody>\n",
       "    <tr>\n",
       "      <th>0</th>\n",
       "      <td>1</td>\n",
       "      <td>2025-03-09 06:23:57</td>\n",
       "      <td>83.54</td>\n",
       "      <td>Sarah Murray</td>\n",
       "      <td>Oconnor-Hughes</td>\n",
       "      <td>5411</td>\n",
       "      <td>Longtown</td>\n",
       "      <td>Android</td>\n",
       "      <td>102.247.49.50</td>\n",
       "      <td>38.17</td>\n",
       "      <td>0</td>\n",
       "    </tr>\n",
       "    <tr>\n",
       "      <th>1</th>\n",
       "      <td>2</td>\n",
       "      <td>2025-02-14 05:17:36</td>\n",
       "      <td>805.88</td>\n",
       "      <td>Alexander Brooks</td>\n",
       "      <td>Reed PLC</td>\n",
       "      <td>5261</td>\n",
       "      <td>Woodsland</td>\n",
       "      <td>POS</td>\n",
       "      <td>153.157.50.7</td>\n",
       "      <td>49.84</td>\n",
       "      <td>0</td>\n",
       "    </tr>\n",
       "    <tr>\n",
       "      <th>2</th>\n",
       "      <td>3</td>\n",
       "      <td>2024-05-03 15:28:52</td>\n",
       "      <td>450.49</td>\n",
       "      <td>Harold Perez</td>\n",
       "      <td>Berry LLC</td>\n",
       "      <td>5261</td>\n",
       "      <td>Jessicatown</td>\n",
       "      <td>iOS</td>\n",
       "      <td>151.174.154.123</td>\n",
       "      <td>48.79</td>\n",
       "      <td>0</td>\n",
       "    </tr>\n",
       "    <tr>\n",
       "      <th>3</th>\n",
       "      <td>4</td>\n",
       "      <td>2024-05-03 09:01:14</td>\n",
       "      <td>782.39</td>\n",
       "      <td>Rebecca Davis</td>\n",
       "      <td>Berg Inc</td>\n",
       "      <td>5968</td>\n",
       "      <td>North Krystalburgh</td>\n",
       "      <td>Android</td>\n",
       "      <td>130.70.79.149</td>\n",
       "      <td>8.71</td>\n",
       "      <td>0</td>\n",
       "    </tr>\n",
       "    <tr>\n",
       "      <th>4</th>\n",
       "      <td>5</td>\n",
       "      <td>2025-04-24 17:24:39</td>\n",
       "      <td>713.02</td>\n",
       "      <td>Lauren Benson DDS</td>\n",
       "      <td>King-Gaines</td>\n",
       "      <td>5968</td>\n",
       "      <td>East Danielletown</td>\n",
       "      <td>Android</td>\n",
       "      <td>195.136.16.190</td>\n",
       "      <td>17.16</td>\n",
       "      <td>0</td>\n",
       "    </tr>\n",
       "  </tbody>\n",
       "</table>\n",
       "</div>"
      ],
      "text/plain": [
       "   TransactionID                 Time  Amount     CardholderName  \\\n",
       "0              1  2025-03-09 06:23:57   83.54       Sarah Murray   \n",
       "1              2  2025-02-14 05:17:36  805.88   Alexander Brooks   \n",
       "2              3  2024-05-03 15:28:52  450.49       Harold Perez   \n",
       "3              4  2024-05-03 09:01:14  782.39      Rebecca Davis   \n",
       "4              5  2025-04-24 17:24:39  713.02  Lauren Benson DDS   \n",
       "\n",
       "     MerchantName   MCC            Location   Device        IPAddress  \\\n",
       "0  Oconnor-Hughes  5411            Longtown  Android    102.247.49.50   \n",
       "1        Reed PLC  5261           Woodsland      POS     153.157.50.7   \n",
       "2       Berry LLC  5261         Jessicatown      iOS  151.174.154.123   \n",
       "3        Berg Inc  5968  North Krystalburgh  Android    130.70.79.149   \n",
       "4     King-Gaines  5968   East Danielletown  Android   195.136.16.190   \n",
       "\n",
       "   TransactionSpeed  Fraud  \n",
       "0             38.17      0  \n",
       "1             49.84      0  \n",
       "2             48.79      0  \n",
       "3              8.71      0  \n",
       "4             17.16      0  "
      ]
     },
     "execution_count": 147,
     "metadata": {},
     "output_type": "execute_result"
    }
   ],
   "source": [
    "df = pd.read_csv(\"credit_card_transactions.csv\")\n",
    "df.head()"
   ]
  },
  {
   "cell_type": "code",
   "execution_count": 148,
   "id": "e4cd15ba",
   "metadata": {},
   "outputs": [
    {
     "data": {
      "text/plain": [
       "TransactionID         int64\n",
       "Time                 object\n",
       "Amount              float64\n",
       "CardholderName       object\n",
       "MerchantName         object\n",
       "MCC                   int64\n",
       "Location             object\n",
       "Device               object\n",
       "IPAddress            object\n",
       "TransactionSpeed    float64\n",
       "Fraud                 int64\n",
       "dtype: object"
      ]
     },
     "execution_count": 148,
     "metadata": {},
     "output_type": "execute_result"
    }
   ],
   "source": [
    "df.dtypes"
   ]
  },
  {
   "cell_type": "code",
   "execution_count": 149,
   "id": "c14616e9",
   "metadata": {},
   "outputs": [],
   "source": [
    "#Transformacion de datos\n",
    "df['Time'] = pd.to_datetime(df['Time'], errors = 'coerce')\n",
    "df['MCC'] = df['MCC'].astype(object)\n",
    "df['Weekday'] = df['Time'].dt.weekday\n",
    "df['Hour'] = df['Time'].dt.hour\n",
    "df['Month'] = df['Time'].dt.month"
   ]
  },
  {
   "cell_type": "code",
   "execution_count": 150,
   "id": "390c89cd",
   "metadata": {},
   "outputs": [
    {
     "data": {
      "text/html": [
       "<div>\n",
       "<style scoped>\n",
       "    .dataframe tbody tr th:only-of-type {\n",
       "        vertical-align: middle;\n",
       "    }\n",
       "\n",
       "    .dataframe tbody tr th {\n",
       "        vertical-align: top;\n",
       "    }\n",
       "\n",
       "    .dataframe thead th {\n",
       "        text-align: right;\n",
       "    }\n",
       "</style>\n",
       "<table border=\"1\" class=\"dataframe\">\n",
       "  <thead>\n",
       "    <tr style=\"text-align: right;\">\n",
       "      <th></th>\n",
       "      <th>TransactionID</th>\n",
       "      <th>Time</th>\n",
       "      <th>Amount</th>\n",
       "      <th>CardholderName</th>\n",
       "      <th>MerchantName</th>\n",
       "      <th>MCC</th>\n",
       "      <th>Location</th>\n",
       "      <th>Device</th>\n",
       "      <th>IPAddress</th>\n",
       "      <th>TransactionSpeed</th>\n",
       "      <th>Fraud</th>\n",
       "      <th>Weekday</th>\n",
       "      <th>Hour</th>\n",
       "      <th>Month</th>\n",
       "    </tr>\n",
       "  </thead>\n",
       "  <tbody>\n",
       "    <tr>\n",
       "      <th>0</th>\n",
       "      <td>1</td>\n",
       "      <td>2025-03-09 06:23:57</td>\n",
       "      <td>83.54</td>\n",
       "      <td>Sarah Murray</td>\n",
       "      <td>Oconnor-Hughes</td>\n",
       "      <td>5411</td>\n",
       "      <td>Longtown</td>\n",
       "      <td>Android</td>\n",
       "      <td>102.247.49.50</td>\n",
       "      <td>38.17</td>\n",
       "      <td>0</td>\n",
       "      <td>6</td>\n",
       "      <td>6</td>\n",
       "      <td>3</td>\n",
       "    </tr>\n",
       "    <tr>\n",
       "      <th>1</th>\n",
       "      <td>2</td>\n",
       "      <td>2025-02-14 05:17:36</td>\n",
       "      <td>805.88</td>\n",
       "      <td>Alexander Brooks</td>\n",
       "      <td>Reed PLC</td>\n",
       "      <td>5261</td>\n",
       "      <td>Woodsland</td>\n",
       "      <td>POS</td>\n",
       "      <td>153.157.50.7</td>\n",
       "      <td>49.84</td>\n",
       "      <td>0</td>\n",
       "      <td>4</td>\n",
       "      <td>5</td>\n",
       "      <td>2</td>\n",
       "    </tr>\n",
       "    <tr>\n",
       "      <th>2</th>\n",
       "      <td>3</td>\n",
       "      <td>2024-05-03 15:28:52</td>\n",
       "      <td>450.49</td>\n",
       "      <td>Harold Perez</td>\n",
       "      <td>Berry LLC</td>\n",
       "      <td>5261</td>\n",
       "      <td>Jessicatown</td>\n",
       "      <td>iOS</td>\n",
       "      <td>151.174.154.123</td>\n",
       "      <td>48.79</td>\n",
       "      <td>0</td>\n",
       "      <td>4</td>\n",
       "      <td>15</td>\n",
       "      <td>5</td>\n",
       "    </tr>\n",
       "    <tr>\n",
       "      <th>3</th>\n",
       "      <td>4</td>\n",
       "      <td>2024-05-03 09:01:14</td>\n",
       "      <td>782.39</td>\n",
       "      <td>Rebecca Davis</td>\n",
       "      <td>Berg Inc</td>\n",
       "      <td>5968</td>\n",
       "      <td>North Krystalburgh</td>\n",
       "      <td>Android</td>\n",
       "      <td>130.70.79.149</td>\n",
       "      <td>8.71</td>\n",
       "      <td>0</td>\n",
       "      <td>4</td>\n",
       "      <td>9</td>\n",
       "      <td>5</td>\n",
       "    </tr>\n",
       "    <tr>\n",
       "      <th>4</th>\n",
       "      <td>5</td>\n",
       "      <td>2025-04-24 17:24:39</td>\n",
       "      <td>713.02</td>\n",
       "      <td>Lauren Benson DDS</td>\n",
       "      <td>King-Gaines</td>\n",
       "      <td>5968</td>\n",
       "      <td>East Danielletown</td>\n",
       "      <td>Android</td>\n",
       "      <td>195.136.16.190</td>\n",
       "      <td>17.16</td>\n",
       "      <td>0</td>\n",
       "      <td>3</td>\n",
       "      <td>17</td>\n",
       "      <td>4</td>\n",
       "    </tr>\n",
       "  </tbody>\n",
       "</table>\n",
       "</div>"
      ],
      "text/plain": [
       "   TransactionID                Time  Amount     CardholderName  \\\n",
       "0              1 2025-03-09 06:23:57   83.54       Sarah Murray   \n",
       "1              2 2025-02-14 05:17:36  805.88   Alexander Brooks   \n",
       "2              3 2024-05-03 15:28:52  450.49       Harold Perez   \n",
       "3              4 2024-05-03 09:01:14  782.39      Rebecca Davis   \n",
       "4              5 2025-04-24 17:24:39  713.02  Lauren Benson DDS   \n",
       "\n",
       "     MerchantName   MCC            Location   Device        IPAddress  \\\n",
       "0  Oconnor-Hughes  5411            Longtown  Android    102.247.49.50   \n",
       "1        Reed PLC  5261           Woodsland      POS     153.157.50.7   \n",
       "2       Berry LLC  5261         Jessicatown      iOS  151.174.154.123   \n",
       "3        Berg Inc  5968  North Krystalburgh  Android    130.70.79.149   \n",
       "4     King-Gaines  5968   East Danielletown  Android   195.136.16.190   \n",
       "\n",
       "   TransactionSpeed  Fraud  Weekday  Hour  Month  \n",
       "0             38.17      0        6     6      3  \n",
       "1             49.84      0        4     5      2  \n",
       "2             48.79      0        4    15      5  \n",
       "3              8.71      0        4     9      5  \n",
       "4             17.16      0        3    17      4  "
      ]
     },
     "execution_count": 150,
     "metadata": {},
     "output_type": "execute_result"
    }
   ],
   "source": [
    "df.head()"
   ]
  },
  {
   "cell_type": "code",
   "execution_count": 151,
   "id": "a4272d18",
   "metadata": {},
   "outputs": [
    {
     "data": {
      "text/html": [
       "<div>\n",
       "<style scoped>\n",
       "    .dataframe tbody tr th:only-of-type {\n",
       "        vertical-align: middle;\n",
       "    }\n",
       "\n",
       "    .dataframe tbody tr th {\n",
       "        vertical-align: top;\n",
       "    }\n",
       "\n",
       "    .dataframe thead th {\n",
       "        text-align: right;\n",
       "    }\n",
       "</style>\n",
       "<table border=\"1\" class=\"dataframe\">\n",
       "  <thead>\n",
       "    <tr style=\"text-align: right;\">\n",
       "      <th></th>\n",
       "      <th>TransactionID</th>\n",
       "      <th>Time</th>\n",
       "      <th>Amount</th>\n",
       "      <th>TransactionSpeed</th>\n",
       "      <th>Fraud</th>\n",
       "      <th>Weekday</th>\n",
       "      <th>Hour</th>\n",
       "      <th>Month</th>\n",
       "    </tr>\n",
       "  </thead>\n",
       "  <tbody>\n",
       "    <tr>\n",
       "      <th>count</th>\n",
       "      <td>10000.00000</td>\n",
       "      <td>10000</td>\n",
       "      <td>10000.000000</td>\n",
       "      <td>10000.000000</td>\n",
       "      <td>10000.000000</td>\n",
       "      <td>10000.000000</td>\n",
       "      <td>10000.000000</td>\n",
       "      <td>10000.000000</td>\n",
       "    </tr>\n",
       "    <tr>\n",
       "      <th>mean</th>\n",
       "      <td>5000.50000</td>\n",
       "      <td>2024-10-30 03:27:20.494300160</td>\n",
       "      <td>547.347491</td>\n",
       "      <td>30.738446</td>\n",
       "      <td>0.019200</td>\n",
       "      <td>2.995400</td>\n",
       "      <td>11.525500</td>\n",
       "      <td>6.528300</td>\n",
       "    </tr>\n",
       "    <tr>\n",
       "      <th>min</th>\n",
       "      <td>1.00000</td>\n",
       "      <td>2024-05-01 07:29:17</td>\n",
       "      <td>10.090000</td>\n",
       "      <td>0.110000</td>\n",
       "      <td>0.000000</td>\n",
       "      <td>0.000000</td>\n",
       "      <td>0.000000</td>\n",
       "      <td>1.000000</td>\n",
       "    </tr>\n",
       "    <tr>\n",
       "      <th>25%</th>\n",
       "      <td>2500.75000</td>\n",
       "      <td>2024-07-31 11:55:39.500000</td>\n",
       "      <td>263.222500</td>\n",
       "      <td>14.910000</td>\n",
       "      <td>0.000000</td>\n",
       "      <td>1.000000</td>\n",
       "      <td>6.000000</td>\n",
       "      <td>4.000000</td>\n",
       "    </tr>\n",
       "    <tr>\n",
       "      <th>50%</th>\n",
       "      <td>5000.50000</td>\n",
       "      <td>2024-10-30 22:49:50</td>\n",
       "      <td>512.240000</td>\n",
       "      <td>29.655000</td>\n",
       "      <td>0.000000</td>\n",
       "      <td>3.000000</td>\n",
       "      <td>12.000000</td>\n",
       "      <td>7.000000</td>\n",
       "    </tr>\n",
       "    <tr>\n",
       "      <th>75%</th>\n",
       "      <td>7500.25000</td>\n",
       "      <td>2025-01-28 03:57:06.750000128</td>\n",
       "      <td>759.935000</td>\n",
       "      <td>45.270000</td>\n",
       "      <td>0.000000</td>\n",
       "      <td>5.000000</td>\n",
       "      <td>17.000000</td>\n",
       "      <td>10.000000</td>\n",
       "    </tr>\n",
       "    <tr>\n",
       "      <th>max</th>\n",
       "      <td>10000.00000</td>\n",
       "      <td>2025-05-01 09:39:46</td>\n",
       "      <td>4988.070000</td>\n",
       "      <td>119.860000</td>\n",
       "      <td>1.000000</td>\n",
       "      <td>6.000000</td>\n",
       "      <td>23.000000</td>\n",
       "      <td>12.000000</td>\n",
       "    </tr>\n",
       "    <tr>\n",
       "      <th>std</th>\n",
       "      <td>2886.89568</td>\n",
       "      <td>NaN</td>\n",
       "      <td>460.047329</td>\n",
       "      <td>19.092345</td>\n",
       "      <td>0.137234</td>\n",
       "      <td>1.991626</td>\n",
       "      <td>6.932341</td>\n",
       "      <td>3.467795</td>\n",
       "    </tr>\n",
       "  </tbody>\n",
       "</table>\n",
       "</div>"
      ],
      "text/plain": [
       "       TransactionID                           Time        Amount  \\\n",
       "count    10000.00000                          10000  10000.000000   \n",
       "mean      5000.50000  2024-10-30 03:27:20.494300160    547.347491   \n",
       "min          1.00000            2024-05-01 07:29:17     10.090000   \n",
       "25%       2500.75000     2024-07-31 11:55:39.500000    263.222500   \n",
       "50%       5000.50000            2024-10-30 22:49:50    512.240000   \n",
       "75%       7500.25000  2025-01-28 03:57:06.750000128    759.935000   \n",
       "max      10000.00000            2025-05-01 09:39:46   4988.070000   \n",
       "std       2886.89568                            NaN    460.047329   \n",
       "\n",
       "       TransactionSpeed         Fraud       Weekday          Hour  \\\n",
       "count      10000.000000  10000.000000  10000.000000  10000.000000   \n",
       "mean          30.738446      0.019200      2.995400     11.525500   \n",
       "min            0.110000      0.000000      0.000000      0.000000   \n",
       "25%           14.910000      0.000000      1.000000      6.000000   \n",
       "50%           29.655000      0.000000      3.000000     12.000000   \n",
       "75%           45.270000      0.000000      5.000000     17.000000   \n",
       "max          119.860000      1.000000      6.000000     23.000000   \n",
       "std           19.092345      0.137234      1.991626      6.932341   \n",
       "\n",
       "              Month  \n",
       "count  10000.000000  \n",
       "mean       6.528300  \n",
       "min        1.000000  \n",
       "25%        4.000000  \n",
       "50%        7.000000  \n",
       "75%       10.000000  \n",
       "max       12.000000  \n",
       "std        3.467795  "
      ]
     },
     "execution_count": 151,
     "metadata": {},
     "output_type": "execute_result"
    }
   ],
   "source": [
    "df.describe()"
   ]
  },
  {
   "cell_type": "code",
   "execution_count": 152,
   "id": "631cd5f8",
   "metadata": {},
   "outputs": [
    {
     "data": {
      "text/plain": [
       "Amount              0\n",
       "MerchantName        0\n",
       "MCC                 0\n",
       "Location            0\n",
       "Device              0\n",
       "TransactionSpeed    0\n",
       "Fraud               0\n",
       "Weekday             0\n",
       "Hour                0\n",
       "Month               0\n",
       "dtype: int64"
      ]
     },
     "execution_count": 152,
     "metadata": {},
     "output_type": "execute_result"
    }
   ],
   "source": [
    "df = df.drop(['CardholderName','TransactionID', 'Time', 'IPAddress'], axis=1)\n",
    "df.isna().sum()"
   ]
  },
  {
   "cell_type": "code",
   "execution_count": 153,
   "id": "106047a2",
   "metadata": {},
   "outputs": [
    {
     "data": {
      "text/plain": [
       "{'whiskers': [<matplotlib.lines.Line2D at 0x751d98271450>,\n",
       "  <matplotlib.lines.Line2D at 0x751d98271590>],\n",
       " 'caps': [<matplotlib.lines.Line2D at 0x751d982716d0>,\n",
       "  <matplotlib.lines.Line2D at 0x751d98271810>],\n",
       " 'boxes': [<matplotlib.lines.Line2D at 0x751d98271310>],\n",
       " 'medians': [<matplotlib.lines.Line2D at 0x751d98271950>],\n",
       " 'fliers': [<matplotlib.lines.Line2D at 0x751d98271a90>],\n",
       " 'means': []}"
      ]
     },
     "execution_count": 153,
     "metadata": {},
     "output_type": "execute_result"
    },
    {
     "data": {
      "image/png": "[encoded data removed]",
      "text/plain": [
       "<Figure size 640x480 with 1 Axes>"
      ]
     },
     "metadata": {},
     "output_type": "display_data"
    }
   ],
   "source": [
    "plt.boxplot(df['Amount'])"
   ]
  },
  {
   "cell_type": "code",
   "execution_count": 154,
   "id": "39ae9ce8",
   "metadata": {},
   "outputs": [
    {
     "data": {
      "text/plain": [
       "{'whiskers': [<matplotlib.lines.Line2D at 0x751d982dc550>,\n",
       "  <matplotlib.lines.Line2D at 0x751d982dc690>],\n",
       " 'caps': [<matplotlib.lines.Line2D at 0x751d982dc7d0>,\n",
       "  <matplotlib.lines.Line2D at 0x751d982dc910>],\n",
       " 'boxes': [<matplotlib.lines.Line2D at 0x751d982dc410>],\n",
       " 'medians': [<matplotlib.lines.Line2D at 0x751d982dca50>],\n",
       " 'fliers': [<matplotlib.lines.Line2D at 0x751d982dcb90>],\n",
       " 'means': []}"
      ]
     },
     "execution_count": 154,
     "metadata": {},
     "output_type": "execute_result"
    },
    {
     "data": {
      "image/png": "[encoded data removed]",
      "text/plain": [
       "<Figure size 640x480 with 1 Axes>"
      ]
     },
     "metadata": {},
     "output_type": "display_data"
    }
   ],
   "source": [
    "plt.boxplot(df['TransactionSpeed'])"
   ]
  },
  {
   "cell_type": "code",
   "execution_count": 155,
   "id": "79b74e92",
   "metadata": {},
   "outputs": [],
   "source": [
    "# IQR Amount\n",
    "q1 = df['Amount'].quantile(0.25)\n",
    "q3 = df['Amount'].quantile(0.75)\n",
    "iqr = q3 - q1\n",
    "\n",
    "limite_superior = q3 + 1.5 * iqr\n",
    "\n",
    "df['is_large_amount'] = (df['Amount'] > limite_superior).astype(int)\n",
    "\n",
    "\n",
    "# IQR TransactionSpeed\n",
    "q1 = df['TransactionSpeed'].quantile(0.25)\n",
    "q3 = df['TransactionSpeed'].quantile(0.75)\n",
    "iqr = q3 - q1\n",
    "\n",
    "limite_superior = q3 + 1.5 * iqr\n",
    "\n",
    "df['is_slow_transaction'] = (df['TransactionSpeed'] > limite_superior).astype(int)\n"
   ]
  },
  {
   "cell_type": "code",
   "execution_count": 156,
   "id": "7897a9fe",
   "metadata": {},
   "outputs": [
    {
     "data": {
      "text/plain": [
       "Fraud\n",
       "0    9808\n",
       "1     192\n",
       "Name: count, dtype: int64"
      ]
     },
     "execution_count": 156,
     "metadata": {},
     "output_type": "execute_result"
    }
   ],
   "source": [
    "#Data desbalanceada\n",
    "df['Fraud'].value_counts()"
   ]
  },
  {
   "cell_type": "code",
   "execution_count": 157,
   "id": "4d8b059e",
   "metadata": {},
   "outputs": [],
   "source": [
    "#Calcular porcentajes de presencia en fraude y no fraude\n",
    "#TODO"
   ]
  },
  {
   "cell_type": "code",
   "execution_count": 158,
   "id": "b49b90a6",
   "metadata": {},
   "outputs": [
    {
     "data": {
      "text/plain": [
       "Fraud\n",
       "0    9808\n",
       "1     192\n",
       "Name: count, dtype: int64"
      ]
     },
     "execution_count": 158,
     "metadata": {},
     "output_type": "execute_result"
    }
   ],
   "source": [
    "categoricFeatures = ['MerchantName','Location', 'MCC', 'Device']\n",
    "numericFeatures = ['Amount', 'Hour', 'TransactionSpeed', 'is_slow_transaction', 'is_large_amount']\n",
    "all_features = numericFeatures + categoricFeatures\n",
    "\n",
    "\n",
    "#Normalizacion para categoricas\n",
    "for col in categoricFeatures:\n",
    "      df[col] = LabelEncoder().fit_transform(df[col])\n",
    "\n",
    "#Normalizacion para numericas\n",
    "df[all_features] = scaler.fit_transform(df[all_features])\n",
    "df['Fraud'].value_counts()"
   ]
  },
  {
   "cell_type": "code",
   "execution_count": 159,
   "id": "2be5e435",
   "metadata": {},
   "outputs": [],
   "source": [
    "X = df.drop('Fraud', axis=1)\n",
    "y = df['Fraud']\n",
    "\n",
    "X_train, X_test, y_train, y_test = train_test_split(\n",
    "    X, y, test_size=0.2, random_state=42, stratify=y\n",
    ")"
   ]
  },
  {
   "cell_type": "code",
   "execution_count": 160,
   "id": "7ad65ea3",
   "metadata": {},
   "outputs": [
    {
     "name": "stdout",
     "output_type": "stream",
     "text": [
      "is_large_amount: 6368.51\n",
      "is_slow_transaction: 4126.79\n",
      "Amount: 306.06\n",
      "TransactionSpeed: 154.70\n",
      "Month: 3.95\n",
      "Weekday: 0.41\n",
      "MCC: 0.28\n",
      "Hour: 0.19\n",
      "Device: 0.16\n",
      "MerchantName: 0.05\n",
      "Location: 0.00\n"
     ]
    }
   ],
   "source": [
    "selector = SelectKBest(score_func=chi2, k='all')\n",
    "selector.fit(X_train, y_train)\n",
    "\n",
    "relevance = []\n",
    "\n",
    "for feature, score in zip(X_train.columns, selector.scores_):\n",
    "    relevance.append((feature, score))\n",
    "\n",
    "relevance.sort(key=lambda x: x[1], reverse=True)\n",
    "\n",
    "for feature, score in relevance:\n",
    "    print(f\"{feature}: {score:.2f}\")"
   ]
  },
  {
   "cell_type": "code",
   "execution_count": 161,
   "id": "9d08d984",
   "metadata": {},
   "outputs": [
    {
     "name": "stdout",
     "output_type": "stream",
     "text": [
      "Distribución original en el conjunto de entrenamiento:\n",
      "Fraud\n",
      "0    7846\n",
      "1     154\n",
      "Name: count, dtype: int64\n"
     ]
    }
   ],
   "source": [
    "print(\"Distribución original en el conjunto de entrenamiento:\")\n",
    "print(pd.Series(y_train).value_counts())"
   ]
  },
  {
   "cell_type": "markdown",
   "id": "8b553689",
   "metadata": {},
   "source": [
    "### Aplicamos tecnica: NearMiss-3"
   ]
  },
  {
   "cell_type": "code",
   "execution_count": 162,
   "id": "537145dc",
   "metadata": {},
   "outputs": [
    {
     "name": "stdout",
     "output_type": "stream",
     "text": [
      "\n",
      "Distribución después de aplicar NearMiss-3:\n",
      "Fraud\n",
      "0    154\n",
      "1    154\n",
      "Name: count, dtype: int64\n"
     ]
    }
   ],
   "source": [
    "nm = NearMiss(\n",
    "    version=3,           # NearMiss-3\n",
    "    n_neighbors=3,       # Número de vecinos para considerar\n",
    "    n_neighbors_ver3=3   # Para versión 3, cuántos vecinos considerar para la selección\n",
    ")\n",
    "\n",
    "X_resampled, y_resampled = nm.fit_resample(X_train, y_train)\n",
    "\n",
    "print(\"\\nDistribución después de aplicar NearMiss-3:\")\n",
    "print(pd.Series(y_resampled).value_counts())"
   ]
  },
  {
   "cell_type": "code",
   "execution_count": 163,
   "id": "cebb30f4",
   "metadata": {},
   "outputs": [
    {
     "name": "stdout",
     "output_type": "stream",
     "text": [
      "is_large_amount: 125.00\n",
      "is_slow_transaction: 81.00\n",
      "Amount: 44.19\n",
      "TransactionSpeed: 23.14\n",
      "Weekday: 1.24\n",
      "Month: 0.63\n",
      "Device: 0.57\n",
      "MCC: 0.12\n",
      "MerchantName: 0.07\n",
      "Location: 0.07\n",
      "Hour: 0.07\n"
     ]
    }
   ],
   "source": [
    "selector = SelectKBest(score_func=chi2, k='all')\n",
    "selector.fit(X_resampled, y_resampled)\n",
    "\n",
    "relevance = []\n",
    "\n",
    "for feature, score in zip(X_train.columns, selector.scores_):\n",
    "    relevance.append((feature, score))\n",
    "\n",
    "relevance.sort(key=lambda x: x[1], reverse=True)\n",
    "\n",
    "for feature, score in relevance:\n",
    "    print(f\"{feature}: {score:.2f}\")"
   ]
  },
  {
   "cell_type": "code",
   "execution_count": 164,
   "id": "6740f7b6",
   "metadata": {},
   "outputs": [],
   "source": [
    "model = GaussianNB()\n",
    "model.fit(X_resampled, y_resampled)\n",
    "y_pred = model.predict(X_test)"
   ]
  },
  {
   "cell_type": "code",
   "execution_count": 165,
   "id": "cd3c21ff",
   "metadata": {},
   "outputs": [
    {
     "name": "stdout",
     "output_type": "stream",
     "text": [
      "              precision    recall  f1-score   support\n",
      "\n",
      "           0       1.00      1.00      1.00      1962\n",
      "           1       1.00      0.84      0.91        38\n",
      "\n",
      "    accuracy                           1.00      2000\n",
      "   macro avg       1.00      0.92      0.96      2000\n",
      "weighted avg       1.00      1.00      1.00      2000\n",
      "\n"
     ]
    }
   ],
   "source": [
    "print(classification_report(y_test, y_pred))"
   ]
  },
  {
   "cell_type": "code",
   "execution_count": 166,
   "id": "ab38da8c",
   "metadata": {},
   "outputs": [
    {
     "name": "stdout",
     "output_type": "stream",
     "text": [
      "[[1962    0]\n",
      " [   6   32]]\n"
     ]
    }
   ],
   "source": [
    "print(confusion_matrix(y_test, y_pred))"
   ]
  },
  {
   "cell_type": "code",
   "execution_count": null,
   "id": "464ac5fd",
   "metadata": {},
   "outputs": [],
   "source": []
  },
  {
   "cell_type": "code",
   "execution_count": null,
   "id": "93bc0b31",
   "metadata": {},
   "outputs": [],
   "source": []
  }
 ],
 "metadata": {
  "kernelspec": {
   "display_name": "Python 3",
   "language": "python",
   "name": "python3"
  },
  "language_info": {
   "codemirror_mode": {
    "name": "ipython",
    "version": 3
   },
   "file_extension": ".py",
   "mimetype": "text/x-python",
   "name": "python",
   "nbconvert_exporter": "python",
   "pygments_lexer": "ipython3",
   "version": "3.13.2"
  }
 },
 "nbformat": 4,
 "nbformat_minor": 5
}
