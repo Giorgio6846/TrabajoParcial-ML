{
 "cells": [
  {
   "cell_type": "code",
   "execution_count": 1,
   "id": "c8a4232c",
   "metadata": {},
   "outputs": [],
   "source": [
    "import pandas as pd\n",
    "from sklearn.preprocessing import LabelEncoder\n",
    "from sklearn.feature_selection import SelectKBest, chi2\n",
    "from sklearn.model_selection import train_test_split\n",
    "from sklearn.naive_bayes import GaussianNB\n",
    "from sklearn.metrics import classification_report, confusion_matrix\n",
    "from imblearn.under_sampling import NearMiss\n",
    "from matplotlib import pyplot as plt\n",
    "from sklearn.neural_network import MLPClassifier\n",
    "from sklearn.metrics import roc_curve, auc\n",
    "from sklearn.naive_bayes import BernoulliNB\n",
    "\n",
    "from sklearn.preprocessing import MinMaxScaler\n",
    "scaler = MinMaxScaler()"
   ]
  },
  {
   "cell_type": "code",
   "execution_count": null,
   "id": "b7c8c36b",
   "metadata": {},
   "outputs": [
    {
     "data": {
      "application/vnd.microsoft.datawrangler.viewer.v0+json": {
       "columns": [
        {
         "name": "index",
         "rawType": "int64",
         "type": "integer"
        },
        {
         "name": "TransactionID",
         "rawType": "int64",
         "type": "integer"
        },
        {
         "name": "Time",
         "rawType": "object",
         "type": "string"
        },
        {
         "name": "Amount",
         "rawType": "float64",
         "type": "float"
        },
        {
         "name": "CardholderName",
         "rawType": "object",
         "type": "string"
        },
        {
         "name": "MerchantName",
         "rawType": "object",
         "type": "string"
        },
        {
         "name": "MCC",
         "rawType": "int64",
         "type": "integer"
        },
        {
         "name": "Location",
         "rawType": "object",
         "type": "string"
        },
        {
         "name": "Device",
         "rawType": "object",
         "type": "string"
        },
        {
         "name": "IPAddress",
         "rawType": "object",
         "type": "string"
        },
        {
         "name": "TransactionSpeed",
         "rawType": "float64",
         "type": "float"
        },
        {
         "name": "Fraud",
         "rawType": "int64",
         "type": "integer"
        }
       ],
       "conversionMethod": "pd.DataFrame",
       "ref": "95d9f492-bc12-4432-9eab-367b62b19e8c",
       "rows": [
        [
         "0",
         "1",
         "2025-03-09 06:23:57",
         "83.54",
         "Sarah Murray",
         "Oconnor-Hughes",
         "5411",
         "Longtown",
         "Android",
         "102.247.49.50",
         "38.17",
         "0"
        ],
        [
         "1",
         "2",
         "2025-02-14 05:17:36",
         "805.88",
         "Alexander Brooks",
         "Reed PLC",
         "5261",
         "Woodsland",
         "POS",
         "153.157.50.7",
         "49.84",
         "0"
        ],
        [
         "2",
         "3",
         "2024-05-03 15:28:52",
         "450.49",
         "Harold Perez",
         "Berry LLC",
         "5261",
         "Jessicatown",
         "iOS",
         "151.174.154.123",
         "48.79",
         "0"
        ],
        [
         "3",
         "4",
         "2024-05-03 09:01:14",
         "782.39",
         "Rebecca Davis",
         "Berg Inc",
         "5968",
         "North Krystalburgh",
         "Android",
         "130.70.79.149",
         "8.71",
         "0"
        ],
        [
         "4",
         "5",
         "2025-04-24 17:24:39",
         "713.02",
         "Lauren Benson DDS",
         "King-Gaines",
         "5968",
         "East Danielletown",
         "Android",
         "195.136.16.190",
         "17.16",
         "0"
        ]
       ],
       "shape": {
        "columns": 11,
        "rows": 5
       }
      },
      "text/html": [
       "<div>\n",
       "<style scoped>\n",
       "    .dataframe tbody tr th:only-of-type {\n",
       "        vertical-align: middle;\n",
       "    }\n",
       "\n",
       "    .dataframe tbody tr th {\n",
       "        vertical-align: top;\n",
       "    }\n",
       "\n",
       "    .dataframe thead th {\n",
       "        text-align: right;\n",
       "    }\n",
       "</style>\n",
       "<table border=\"1\" class=\"dataframe\">\n",
       "  <thead>\n",
       "    <tr style=\"text-align: right;\">\n",
       "      <th></th>\n",
       "      <th>TransactionID</th>\n",
       "      <th>Time</th>\n",
       "      <th>Amount</th>\n",
       "      <th>CardholderName</th>\n",
       "      <th>MerchantName</th>\n",
       "      <th>MCC</th>\n",
       "      <th>Location</th>\n",
       "      <th>Device</th>\n",
       "      <th>IPAddress</th>\n",
       "      <th>TransactionSpeed</th>\n",
       "      <th>Fraud</th>\n",
       "    </tr>\n",
       "  </thead>\n",
       "  <tbody>\n",
       "    <tr>\n",
       "      <th>0</th>\n",
       "      <td>1</td>\n",
       "      <td>2025-03-09 06:23:57</td>\n",
       "      <td>83.54</td>\n",
       "      <td>Sarah Murray</td>\n",
       "      <td>Oconnor-Hughes</td>\n",
       "      <td>5411</td>\n",
       "      <td>Longtown</td>\n",
       "      <td>Android</td>\n",
       "      <td>102.247.49.50</td>\n",
       "      <td>38.17</td>\n",
       "      <td>0</td>\n",
       "    </tr>\n",
       "    <tr>\n",
       "      <th>1</th>\n",
       "      <td>2</td>\n",
       "      <td>2025-02-14 05:17:36</td>\n",
       "      <td>805.88</td>\n",
       "      <td>Alexander Brooks</td>\n",
       "      <td>Reed PLC</td>\n",
       "      <td>5261</td>\n",
       "      <td>Woodsland</td>\n",
       "      <td>POS</td>\n",
       "      <td>153.157.50.7</td>\n",
       "      <td>49.84</td>\n",
       "      <td>0</td>\n",
       "    </tr>\n",
       "    <tr>\n",
       "      <th>2</th>\n",
       "      <td>3</td>\n",
       "      <td>2024-05-03 15:28:52</td>\n",
       "      <td>450.49</td>\n",
       "      <td>Harold Perez</td>\n",
       "      <td>Berry LLC</td>\n",
       "      <td>5261</td>\n",
       "      <td>Jessicatown</td>\n",
       "      <td>iOS</td>\n",
       "      <td>151.174.154.123</td>\n",
       "      <td>48.79</td>\n",
       "      <td>0</td>\n",
       "    </tr>\n",
       "    <tr>\n",
       "      <th>3</th>\n",
       "      <td>4</td>\n",
       "      <td>2024-05-03 09:01:14</td>\n",
       "      <td>782.39</td>\n",
       "      <td>Rebecca Davis</td>\n",
       "      <td>Berg Inc</td>\n",
       "      <td>5968</td>\n",
       "      <td>North Krystalburgh</td>\n",
       "      <td>Android</td>\n",
       "      <td>130.70.79.149</td>\n",
       "      <td>8.71</td>\n",
       "      <td>0</td>\n",
       "    </tr>\n",
       "    <tr>\n",
       "      <th>4</th>\n",
       "      <td>5</td>\n",
       "      <td>2025-04-24 17:24:39</td>\n",
       "      <td>713.02</td>\n",
       "      <td>Lauren Benson DDS</td>\n",
       "      <td>King-Gaines</td>\n",
       "      <td>5968</td>\n",
       "      <td>East Danielletown</td>\n",
       "      <td>Android</td>\n",
       "      <td>195.136.16.190</td>\n",
       "      <td>17.16</td>\n",
       "      <td>0</td>\n",
       "    </tr>\n",
       "  </tbody>\n",
       "</table>\n",
       "</div>"
      ],
      "text/plain": [
       "   TransactionID                 Time  Amount     CardholderName  \\\n",
       "0              1  2025-03-09 06:23:57   83.54       Sarah Murray   \n",
       "1              2  2025-02-14 05:17:36  805.88   Alexander Brooks   \n",
       "2              3  2024-05-03 15:28:52  450.49       Harold Perez   \n",
       "3              4  2024-05-03 09:01:14  782.39      Rebecca Davis   \n",
       "4              5  2025-04-24 17:24:39  713.02  Lauren Benson DDS   \n",
       "\n",
       "     MerchantName   MCC            Location   Device        IPAddress  \\\n",
       "0  Oconnor-Hughes  5411            Longtown  Android    102.247.49.50   \n",
       "1        Reed PLC  5261           Woodsland      POS     153.157.50.7   \n",
       "2       Berry LLC  5261         Jessicatown      iOS  151.174.154.123   \n",
       "3        Berg Inc  5968  North Krystalburgh  Android    130.70.79.149   \n",
       "4     King-Gaines  5968   East Danielletown  Android   195.136.16.190   \n",
       "\n",
       "   TransactionSpeed  Fraud  \n",
       "0             38.17      0  \n",
       "1             49.84      0  \n",
       "2             48.79      0  \n",
       "3              8.71      0  \n",
       "4             17.16      0  "
      ]
     },
     "execution_count": 2,
     "metadata": {},
     "output_type": "execute_result"
    }
   ],
   "source": [
    "df = pd.read_csv(\"../data/credit_card_transactions.csv\")\n",
    "df.head()"
   ]
  },
  {
   "cell_type": "code",
   "execution_count": 3,
   "id": "5efde3a7",
   "metadata": {},
   "outputs": [
    {
     "data": {
      "application/vnd.microsoft.datawrangler.viewer.v0+json": {
       "columns": [
        {
         "name": "index",
         "rawType": "int64",
         "type": "integer"
        },
        {
         "name": "TransactionID",
         "rawType": "int64",
         "type": "integer"
        },
        {
         "name": "Time",
         "rawType": "object",
         "type": "string"
        },
        {
         "name": "Amount",
         "rawType": "float64",
         "type": "float"
        },
        {
         "name": "CardholderName",
         "rawType": "object",
         "type": "string"
        },
        {
         "name": "MerchantName",
         "rawType": "object",
         "type": "string"
        },
        {
         "name": "MCC",
         "rawType": "int64",
         "type": "integer"
        },
        {
         "name": "Location",
         "rawType": "object",
         "type": "string"
        },
        {
         "name": "Device",
         "rawType": "object",
         "type": "string"
        },
        {
         "name": "IPAddress",
         "rawType": "object",
         "type": "string"
        },
        {
         "name": "TransactionSpeed",
         "rawType": "float64",
         "type": "float"
        },
        {
         "name": "Fraud",
         "rawType": "int64",
         "type": "integer"
        }
       ],
       "conversionMethod": "pd.DataFrame",
       "ref": "8ad1b8ea-a93c-4829-aab7-e70e62889703",
       "rows": [
        [
         "0",
         "1",
         "2025-03-09 06:23:57",
         "83.54",
         "Sarah Murray",
         "Oconnor-Hughes",
         "5411",
         "Longtown",
         "Android",
         "102.247.49.50",
         "38.17",
         "0"
        ],
        [
         "1",
         "2",
         "2025-02-14 05:17:36",
         "805.88",
         "Alexander Brooks",
         "Reed PLC",
         "5261",
         "Woodsland",
         "POS",
         "153.157.50.7",
         "49.84",
         "0"
        ],
        [
         "2",
         "3",
         "2024-05-03 15:28:52",
         "450.49",
         "Harold Perez",
         "Berry LLC",
         "5261",
         "Jessicatown",
         "iOS",
         "151.174.154.123",
         "48.79",
         "0"
        ],
        [
         "3",
         "4",
         "2024-05-03 09:01:14",
         "782.39",
         "Rebecca Davis",
         "Berg Inc",
         "5968",
         "North Krystalburgh",
         "Android",
         "130.70.79.149",
         "8.71",
         "0"
        ],
        [
         "4",
         "5",
         "2025-04-24 17:24:39",
         "713.02",
         "Lauren Benson DDS",
         "King-Gaines",
         "5968",
         "East Danielletown",
         "Android",
         "195.136.16.190",
         "17.16",
         "0"
        ],
        [
         "5",
         "6",
         "2025-03-01 01:48:29",
         "305.35",
         "Alexis Mendez",
         "Fisher Ltd",
         "5411",
         "South Jennifer",
         "POS",
         "123.207.86.252",
         "55.36",
         "0"
        ],
        [
         "6",
         "7",
         "2025-02-23 08:24:21",
         "256.63",
         "Sean Manning",
         "Levy Group",
         "5968",
         "West Andrew",
         "Web",
         "21.99.204.254",
         "51.43",
         "0"
        ],
        [
         "7",
         "8",
         "2024-10-18 02:24:01",
         "312.03",
         "Stephen Mendoza",
         "Clements, Matthews and Stokes",
         "5968",
         "Weavermouth",
         "Web",
         "103.39.186.249",
         "57.95",
         "0"
        ],
        [
         "8",
         "9",
         "2024-10-05 06:56:37",
         "1381.9",
         "Trevor Stewart",
         "Barrett-Hunter",
         "5968",
         "Houstonchester",
         "Android",
         "201.1.87.11",
         "119.08",
         "1"
        ],
        [
         "9",
         "10",
         "2024-10-23 01:18:23",
         "885.49",
         "Jason Baldwin MD",
         "Camacho-Franklin",
         "5812",
         "Lake Coreyton",
         "POS",
         "153.131.2.39",
         "1.83",
         "0"
        ],
        [
         "10",
         "11",
         "2025-02-15 01:07:53",
         "897.68",
         "Abigail Henry",
         "Sanders LLC",
         "5261",
         "Port Meganborough",
         "Android",
         "125.104.247.88",
         "28.78",
         "0"
        ],
        [
         "11",
         "12",
         "2025-01-30 04:55:21",
         "910.15",
         "Kara Sosa",
         "Riddle, Shelton and Wells",
         "5968",
         "Underwoodmouth",
         "Web",
         "32.100.97.32",
         "54.11",
         "0"
        ],
        [
         "12",
         "13",
         "2025-04-27 12:05:13",
         "853.05",
         "Kathy Snyder",
         "Rodriguez-Wilkerson",
         "5261",
         "Thomaston",
         "Android",
         "85.136.62.195",
         "5.94",
         "0"
        ],
        [
         "13",
         "14",
         "2025-04-09 15:45:52",
         "662.66",
         "Michael Clark",
         "Palmer Inc",
         "5261",
         "Ramosbury",
         "Web",
         "81.179.109.25",
         "28.29",
         "0"
        ],
        [
         "14",
         "15",
         "2024-06-09 11:08:35",
         "34.87",
         "Anthony Byrd",
         "Bell, Vazquez and Green",
         "5968",
         "West Debra",
         "POS",
         "183.160.35.234",
         "20.5",
         "0"
        ],
        [
         "15",
         "16",
         "2025-03-23 17:00:31",
         "170.8",
         "Robyn Shelton",
         "Williams Group",
         "5942",
         "Williamsbury",
         "Android",
         "30.4.144.19",
         "53.28",
         "0"
        ],
        [
         "16",
         "17",
         "2024-09-10 14:46:26",
         "884.47",
         "Barry Gilbert",
         "Williams Group",
         "5968",
         "Her`dezbury",
         "POS",
         "17.90.113.235",
         "53.76",
         "0"
        ],
        [
         "17",
         "18",
         "2024-06-07 14:45:13",
         "619.54",
         "Anthony Garcia",
         "Hamilton-Smith",
         "7299",
         "West Richard",
         "Web",
         "144.120.36.6",
         "28.4",
         "0"
        ],
        [
         "18",
         "19",
         "2025-03-10 15:10:37",
         "52.12",
         "Emily Ferguson",
         "Smith-Smith",
         "5942",
         "Randallbury",
         "iOS",
         "99.218.166.141",
         "32.26",
         "0"
        ],
        [
         "19",
         "20",
         "2024-10-30 22:12:37",
         "321.98",
         "Scott Rivera",
         "Williams and Sons",
         "5942",
         "Campbellfort",
         "iOS",
         "9.237.76.188",
         "7.7",
         "0"
        ],
        [
         "20",
         "21",
         "2024-11-22 17:36:17",
         "881.14",
         "Nicholas Burns",
         "Molina-Booker",
         "5411",
         "Johnshire",
         "Web",
         "188.32.114.163",
         "12.17",
         "0"
        ],
        [
         "21",
         "22",
         "2025-03-10 22:19:55",
         "327.93",
         "Maurice Williams",
         "Phillips PLC",
         "5968",
         "Davidmouth",
         "POS",
         "162.227.147.6",
         "11.57",
         "0"
        ],
        [
         "22",
         "23",
         "2025-04-12 10:41:58",
         "995.66",
         "Robert Alvarez",
         "Colon, Martin and Dickerson",
         "5968",
         "Ronaldtown",
         "Android",
         "171.181.252.234",
         "47.16",
         "0"
        ],
        [
         "23",
         "24",
         "2024-11-26 17:42:54",
         "965.42",
         "Jessica Cox",
         "Campbell, King and Hodges",
         "5261",
         "Johnport",
         "POS",
         "1.200.132.10",
         "57.39",
         "0"
        ],
        [
         "24",
         "25",
         "2025-01-13 04:53:39",
         "751.94",
         "Carol Bolton",
         "Neal Group",
         "5261",
         "Reillytown",
         "Web",
         "40.73.98.238",
         "15.88",
         "0"
        ],
        [
         "25",
         "26",
         "2025-01-25 03:58:10",
         "431.81",
         "Nancy Price",
         "Doyle PLC",
         "5812",
         "Deleonchester",
         "Android",
         "203.145.214.172",
         "11.98",
         "0"
        ],
        [
         "26",
         "27",
         "2024-05-30 08:54:14",
         "580.73",
         "James Day",
         "Weeks-Robinson",
         "5411",
         "Wagnertown",
         "Android",
         "179.112.126.2",
         "12.55",
         "0"
        ],
        [
         "27",
         "28",
         "2024-06-19 17:41:36",
         "370.4",
         "Carmen Rivera",
         "Bailey-Villanueva",
         "5411",
         "West Karen",
         "POS",
         "208.80.93.35",
         "22.72",
         "0"
        ],
        [
         "28",
         "29",
         "2024-10-25 01:32:39",
         "328.32",
         "Jesse Brown",
         "Koch, Casey and Best",
         "5812",
         "Brownburgh",
         "POS",
         "202.49.180.28",
         "20.16",
         "0"
        ],
        [
         "29",
         "30",
         "2025-03-29 01:08:45",
         "211.44",
         "Larry Robinson",
         "Whitaker, Norris and Nelson",
         "5261",
         "South Chelseychester",
         "POS",
         "213.85.248.200",
         "36.28",
         "0"
        ],
        [
         "30",
         "31",
         "2024-07-19 01:15:54",
         "128.67",
         "Timothy Garner",
         "Wells-Brown",
         "5812",
         "West Luis",
         "POS",
         "31.33.162.15",
         "6.01",
         "0"
        ],
        [
         "31",
         "32",
         "2024-11-09 08:31:05",
         "752.8",
         "Nicole White",
         "Townsend-Payne",
         "5411",
         "North Rachel",
         "Web",
         "214.64.138.25",
         "10.2",
         "0"
        ],
        [
         "32",
         "33",
         "2025-04-09 11:17:29",
         "397.09",
         "Robert Hoffman",
         "Campbell-Gray",
         "5261",
         "Port Ann",
         "POS",
         "193.173.180.195",
         "3.72",
         "0"
        ],
        [
         "33",
         "34",
         "2024-09-06 01:11:32",
         "792.22",
         "Gregory Smith",
         "Miller Ltd",
         "5411",
         "Lake Jameschester",
         "POS",
         "183.97.85.158",
         "20.53",
         "0"
        ],
        [
         "34",
         "35",
         "2024-09-05 13:59:44",
         "135.55",
         "Michael Schwartz",
         "Davis Group",
         "5411",
         "East Jeffhaven",
         "iOS",
         "197.104.49.196",
         "11.54",
         "0"
        ],
        [
         "35",
         "36",
         "2024-06-04 02:36:23",
         "374.9",
         "Mark Hernandez",
         "Hood, Vaughn and Randolph",
         "5812",
         "Lake Mitchellchester",
         "Android",
         "108.206.143.127",
         "48.67",
         "0"
        ],
        [
         "36",
         "37",
         "2024-06-14 04:58:09",
         "831.3",
         "Christopher Casey",
         "Young Ltd",
         "5261",
         "Williamsside",
         "POS",
         "153.137.215.223",
         "57.38",
         "0"
        ],
        [
         "37",
         "38",
         "2025-02-12 01:47:11",
         "510.68",
         "Christine Lee",
         "Swanson PLC",
         "5411",
         "Abigailstad",
         "Web",
         "25.251.55.189",
         "39.12",
         "0"
        ],
        [
         "38",
         "39",
         "2025-01-26 00:55:29",
         "788.39",
         "Brian Berry",
         "Salas PLC",
         "5261",
         "Rossport",
         "iOS",
         "120.29.58.240",
         "20.35",
         "0"
        ],
        [
         "39",
         "40",
         "2025-04-11 03:55:21",
         "120.22",
         "Todd Smith",
         "Houston Group",
         "5261",
         "Wrightbury",
         "POS",
         "177.201.83.148",
         "9.17",
         "0"
        ],
        [
         "40",
         "41",
         "2024-10-15 11:37:59",
         "941.75",
         "Michael Brown",
         "Martinez-Powell",
         "7299",
         "East Joshuaview",
         "Android",
         "97.180.29.247",
         "22.48",
         "0"
        ],
        [
         "41",
         "42",
         "2025-02-18 10:02:50",
         "401.87",
         "Kathleen Thornton",
         "Brown PLC",
         "5968",
         "Sanchezshire",
         "Android",
         "80.136.9.182",
         "58.15",
         "0"
        ],
        [
         "42",
         "43",
         "2024-09-17 04:38:05",
         "504.12",
         "Kevin Kirby",
         "Newman, Juarez and Anderson",
         "5411",
         "Danielmouth",
         "iOS",
         "87.100.186.65",
         "33.77",
         "0"
        ],
        [
         "43",
         "44",
         "2024-08-06 12:20:56",
         "414.48",
         "Christopher Williams",
         "Johnson, Ramsey and Riggs",
         "5968",
         "Port Jasonmouth",
         "Web",
         "46.91.132.246",
         "57.07",
         "0"
        ],
        [
         "44",
         "45",
         "2024-09-09 13:39:28",
         "714.0",
         "Michael Glenn",
         "Johnson-Harris",
         "5261",
         "Elizabethville",
         "Android",
         "161.67.171.12",
         "30.06",
         "0"
        ],
        [
         "45",
         "46",
         "2024-05-07 21:04:55",
         "295.61",
         "Anna Andrews",
         "Torres, Burns and Pratt",
         "7299",
         "Lake Angela",
         "POS",
         "182.235.151.64",
         "28.53",
         "0"
        ],
        [
         "46",
         "47",
         "2024-12-19 15:40:13",
         "730.12",
         "Tracy Armstrong",
         "Oneal LLC",
         "5411",
         "Dariusside",
         "POS",
         "165.92.243.123",
         "50.28",
         "0"
        ],
        [
         "47",
         "48",
         "2024-09-27 15:24:10",
         "129.24",
         "Jason Osborn",
         "Hunt-Mcclain",
         "5411",
         "Murphyview",
         "Android",
         "132.128.66.88",
         "3.22",
         "0"
        ],
        [
         "48",
         "49",
         "2024-11-27 05:44:32",
         "654.95",
         "Marcus Hines",
         "Young Ltd",
         "5812",
         "Stephensview",
         "POS",
         "166.41.24.110",
         "6.57",
         "0"
        ],
        [
         "49",
         "50",
         "2024-05-08 10:36:12",
         "981.72",
         "Sonya Pitts",
         "Goodwin, Sheppard and Hill",
         "5968",
         "Lake Davidmouth",
         "iOS",
         "5.148.95.82",
         "3.62",
         "0"
        ]
       ],
       "shape": {
        "columns": 11,
        "rows": 10000
       }
      },
      "text/html": [
       "<div>\n",
       "<style scoped>\n",
       "    .dataframe tbody tr th:only-of-type {\n",
       "        vertical-align: middle;\n",
       "    }\n",
       "\n",
       "    .dataframe tbody tr th {\n",
       "        vertical-align: top;\n",
       "    }\n",
       "\n",
       "    .dataframe thead th {\n",
       "        text-align: right;\n",
       "    }\n",
       "</style>\n",
       "<table border=\"1\" class=\"dataframe\">\n",
       "  <thead>\n",
       "    <tr style=\"text-align: right;\">\n",
       "      <th></th>\n",
       "      <th>TransactionID</th>\n",
       "      <th>Time</th>\n",
       "      <th>Amount</th>\n",
       "      <th>CardholderName</th>\n",
       "      <th>MerchantName</th>\n",
       "      <th>MCC</th>\n",
       "      <th>Location</th>\n",
       "      <th>Device</th>\n",
       "      <th>IPAddress</th>\n",
       "      <th>TransactionSpeed</th>\n",
       "      <th>Fraud</th>\n",
       "    </tr>\n",
       "  </thead>\n",
       "  <tbody>\n",
       "    <tr>\n",
       "      <th>0</th>\n",
       "      <td>1</td>\n",
       "      <td>2025-03-09 06:23:57</td>\n",
       "      <td>83.54</td>\n",
       "      <td>Sarah Murray</td>\n",
       "      <td>Oconnor-Hughes</td>\n",
       "      <td>5411</td>\n",
       "      <td>Longtown</td>\n",
       "      <td>Android</td>\n",
       "      <td>102.247.49.50</td>\n",
       "      <td>38.17</td>\n",
       "      <td>0</td>\n",
       "    </tr>\n",
       "    <tr>\n",
       "      <th>1</th>\n",
       "      <td>2</td>\n",
       "      <td>2025-02-14 05:17:36</td>\n",
       "      <td>805.88</td>\n",
       "      <td>Alexander Brooks</td>\n",
       "      <td>Reed PLC</td>\n",
       "      <td>5261</td>\n",
       "      <td>Woodsland</td>\n",
       "      <td>POS</td>\n",
       "      <td>153.157.50.7</td>\n",
       "      <td>49.84</td>\n",
       "      <td>0</td>\n",
       "    </tr>\n",
       "    <tr>\n",
       "      <th>2</th>\n",
       "      <td>3</td>\n",
       "      <td>2024-05-03 15:28:52</td>\n",
       "      <td>450.49</td>\n",
       "      <td>Harold Perez</td>\n",
       "      <td>Berry LLC</td>\n",
       "      <td>5261</td>\n",
       "      <td>Jessicatown</td>\n",
       "      <td>iOS</td>\n",
       "      <td>151.174.154.123</td>\n",
       "      <td>48.79</td>\n",
       "      <td>0</td>\n",
       "    </tr>\n",
       "    <tr>\n",
       "      <th>3</th>\n",
       "      <td>4</td>\n",
       "      <td>2024-05-03 09:01:14</td>\n",
       "      <td>782.39</td>\n",
       "      <td>Rebecca Davis</td>\n",
       "      <td>Berg Inc</td>\n",
       "      <td>5968</td>\n",
       "      <td>North Krystalburgh</td>\n",
       "      <td>Android</td>\n",
       "      <td>130.70.79.149</td>\n",
       "      <td>8.71</td>\n",
       "      <td>0</td>\n",
       "    </tr>\n",
       "    <tr>\n",
       "      <th>4</th>\n",
       "      <td>5</td>\n",
       "      <td>2025-04-24 17:24:39</td>\n",
       "      <td>713.02</td>\n",
       "      <td>Lauren Benson DDS</td>\n",
       "      <td>King-Gaines</td>\n",
       "      <td>5968</td>\n",
       "      <td>East Danielletown</td>\n",
       "      <td>Android</td>\n",
       "      <td>195.136.16.190</td>\n",
       "      <td>17.16</td>\n",
       "      <td>0</td>\n",
       "    </tr>\n",
       "    <tr>\n",
       "      <th>...</th>\n",
       "      <td>...</td>\n",
       "      <td>...</td>\n",
       "      <td>...</td>\n",
       "      <td>...</td>\n",
       "      <td>...</td>\n",
       "      <td>...</td>\n",
       "      <td>...</td>\n",
       "      <td>...</td>\n",
       "      <td>...</td>\n",
       "      <td>...</td>\n",
       "      <td>...</td>\n",
       "    </tr>\n",
       "    <tr>\n",
       "      <th>9995</th>\n",
       "      <td>9996</td>\n",
       "      <td>2024-12-04 13:19:22</td>\n",
       "      <td>659.56</td>\n",
       "      <td>Zachary Morales</td>\n",
       "      <td>West LLC</td>\n",
       "      <td>5261</td>\n",
       "      <td>Brownborough</td>\n",
       "      <td>iOS</td>\n",
       "      <td>169.64.249.243</td>\n",
       "      <td>1.25</td>\n",
       "      <td>0</td>\n",
       "    </tr>\n",
       "    <tr>\n",
       "      <th>9996</th>\n",
       "      <td>9997</td>\n",
       "      <td>2024-12-23 16:53:22</td>\n",
       "      <td>290.46</td>\n",
       "      <td>Douglas Gallagher</td>\n",
       "      <td>Thompson-Phillips</td>\n",
       "      <td>5968</td>\n",
       "      <td>New Erin</td>\n",
       "      <td>Android</td>\n",
       "      <td>91.139.246.126</td>\n",
       "      <td>11.04</td>\n",
       "      <td>0</td>\n",
       "    </tr>\n",
       "    <tr>\n",
       "      <th>9997</th>\n",
       "      <td>9998</td>\n",
       "      <td>2025-01-30 19:45:52</td>\n",
       "      <td>337.55</td>\n",
       "      <td>Gregory Jarvis</td>\n",
       "      <td>Williams, Castillo and Luna</td>\n",
       "      <td>5812</td>\n",
       "      <td>Alanville</td>\n",
       "      <td>iOS</td>\n",
       "      <td>183.67.160.124</td>\n",
       "      <td>27.00</td>\n",
       "      <td>0</td>\n",
       "    </tr>\n",
       "    <tr>\n",
       "      <th>9998</th>\n",
       "      <td>9999</td>\n",
       "      <td>2025-03-12 21:30:01</td>\n",
       "      <td>322.15</td>\n",
       "      <td>Kevin Pena</td>\n",
       "      <td>English, Cervantes and Gutierrez</td>\n",
       "      <td>7299</td>\n",
       "      <td>East Martin</td>\n",
       "      <td>iOS</td>\n",
       "      <td>188.156.148.191</td>\n",
       "      <td>3.26</td>\n",
       "      <td>0</td>\n",
       "    </tr>\n",
       "    <tr>\n",
       "      <th>9999</th>\n",
       "      <td>10000</td>\n",
       "      <td>2024-09-23 04:03:54</td>\n",
       "      <td>809.15</td>\n",
       "      <td>Jacqueline Jennings</td>\n",
       "      <td>Parsons Group</td>\n",
       "      <td>5968</td>\n",
       "      <td>Michaelfurt</td>\n",
       "      <td>Web</td>\n",
       "      <td>200.236.19.82</td>\n",
       "      <td>56.20</td>\n",
       "      <td>0</td>\n",
       "    </tr>\n",
       "  </tbody>\n",
       "</table>\n",
       "<p>10000 rows × 11 columns</p>\n",
       "</div>"
      ],
      "text/plain": [
       "      TransactionID                 Time  Amount       CardholderName  \\\n",
       "0                 1  2025-03-09 06:23:57   83.54         Sarah Murray   \n",
       "1                 2  2025-02-14 05:17:36  805.88     Alexander Brooks   \n",
       "2                 3  2024-05-03 15:28:52  450.49         Harold Perez   \n",
       "3                 4  2024-05-03 09:01:14  782.39        Rebecca Davis   \n",
       "4                 5  2025-04-24 17:24:39  713.02    Lauren Benson DDS   \n",
       "...             ...                  ...     ...                  ...   \n",
       "9995           9996  2024-12-04 13:19:22  659.56      Zachary Morales   \n",
       "9996           9997  2024-12-23 16:53:22  290.46    Douglas Gallagher   \n",
       "9997           9998  2025-01-30 19:45:52  337.55       Gregory Jarvis   \n",
       "9998           9999  2025-03-12 21:30:01  322.15           Kevin Pena   \n",
       "9999          10000  2024-09-23 04:03:54  809.15  Jacqueline Jennings   \n",
       "\n",
       "                          MerchantName   MCC            Location   Device  \\\n",
       "0                       Oconnor-Hughes  5411            Longtown  Android   \n",
       "1                             Reed PLC  5261           Woodsland      POS   \n",
       "2                            Berry LLC  5261         Jessicatown      iOS   \n",
       "3                             Berg Inc  5968  North Krystalburgh  Android   \n",
       "4                          King-Gaines  5968   East Danielletown  Android   \n",
       "...                                ...   ...                 ...      ...   \n",
       "9995                          West LLC  5261        Brownborough      iOS   \n",
       "9996                 Thompson-Phillips  5968            New Erin  Android   \n",
       "9997       Williams, Castillo and Luna  5812           Alanville      iOS   \n",
       "9998  English, Cervantes and Gutierrez  7299         East Martin      iOS   \n",
       "9999                     Parsons Group  5968         Michaelfurt      Web   \n",
       "\n",
       "            IPAddress  TransactionSpeed  Fraud  \n",
       "0       102.247.49.50             38.17      0  \n",
       "1        153.157.50.7             49.84      0  \n",
       "2     151.174.154.123             48.79      0  \n",
       "3       130.70.79.149              8.71      0  \n",
       "4      195.136.16.190             17.16      0  \n",
       "...               ...               ...    ...  \n",
       "9995   169.64.249.243              1.25      0  \n",
       "9996   91.139.246.126             11.04      0  \n",
       "9997   183.67.160.124             27.00      0  \n",
       "9998  188.156.148.191              3.26      0  \n",
       "9999    200.236.19.82             56.20      0  \n",
       "\n",
       "[10000 rows x 11 columns]"
      ]
     },
     "execution_count": 3,
     "metadata": {},
     "output_type": "execute_result"
    }
   ],
   "source": [
    "df"
   ]
  },
  {
   "cell_type": "code",
   "execution_count": 4,
   "id": "e4cd15ba",
   "metadata": {},
   "outputs": [
    {
     "data": {
      "text/plain": [
       "TransactionID         int64\n",
       "Time                 object\n",
       "Amount              float64\n",
       "CardholderName       object\n",
       "MerchantName         object\n",
       "MCC                   int64\n",
       "Location             object\n",
       "Device               object\n",
       "IPAddress            object\n",
       "TransactionSpeed    float64\n",
       "Fraud                 int64\n",
       "dtype: object"
      ]
     },
     "execution_count": 4,
     "metadata": {},
     "output_type": "execute_result"
    }
   ],
   "source": [
    "df.dtypes"
   ]
  },
  {
   "cell_type": "code",
   "execution_count": 5,
   "id": "c14616e9",
   "metadata": {},
   "outputs": [],
   "source": [
    "#Transformacion de datos\n",
    "df['Time'] = pd.to_datetime(df['Time'], errors = 'coerce')\n",
    "df['MCC'] = df['MCC'].astype(object)\n",
    "df['Weekday'] = df['Time'].dt.weekday\n",
    "df['Hour'] = df['Time'].dt.hour\n",
    "df['Month'] = df['Time'].dt.month"
   ]
  },
  {
   "cell_type": "code",
   "execution_count": 6,
   "id": "390c89cd",
   "metadata": {},
   "outputs": [
    {
     "data": {
      "application/vnd.microsoft.datawrangler.viewer.v0+json": {
       "columns": [
        {
         "name": "index",
         "rawType": "int64",
         "type": "integer"
        },
        {
         "name": "TransactionID",
         "rawType": "int64",
         "type": "integer"
        },
        {
         "name": "Time",
         "rawType": "datetime64[ns]",
         "type": "datetime"
        },
        {
         "name": "Amount",
         "rawType": "float64",
         "type": "float"
        },
        {
         "name": "CardholderName",
         "rawType": "object",
         "type": "string"
        },
        {
         "name": "MerchantName",
         "rawType": "object",
         "type": "string"
        },
        {
         "name": "MCC",
         "rawType": "object",
         "type": "unknown"
        },
        {
         "name": "Location",
         "rawType": "object",
         "type": "string"
        },
        {
         "name": "Device",
         "rawType": "object",
         "type": "string"
        },
        {
         "name": "IPAddress",
         "rawType": "object",
         "type": "string"
        },
        {
         "name": "TransactionSpeed",
         "rawType": "float64",
         "type": "float"
        },
        {
         "name": "Fraud",
         "rawType": "int64",
         "type": "integer"
        },
        {
         "name": "Weekday",
         "rawType": "int32",
         "type": "integer"
        },
        {
         "name": "Hour",
         "rawType": "int32",
         "type": "integer"
        },
        {
         "name": "Month",
         "rawType": "int32",
         "type": "integer"
        }
       ],
       "conversionMethod": "pd.DataFrame",
       "ref": "ba2b3ab4-6e06-4868-960d-0d413c6e8ea6",
       "rows": [
        [
         "0",
         "1",
         "2025-03-09 06:23:57",
         "83.54",
         "Sarah Murray",
         "Oconnor-Hughes",
         "5411",
         "Longtown",
         "Android",
         "102.247.49.50",
         "38.17",
         "0",
         "6",
         "6",
         "3"
        ],
        [
         "1",
         "2",
         "2025-02-14 05:17:36",
         "805.88",
         "Alexander Brooks",
         "Reed PLC",
         "5261",
         "Woodsland",
         "POS",
         "153.157.50.7",
         "49.84",
         "0",
         "4",
         "5",
         "2"
        ],
        [
         "2",
         "3",
         "2024-05-03 15:28:52",
         "450.49",
         "Harold Perez",
         "Berry LLC",
         "5261",
         "Jessicatown",
         "iOS",
         "151.174.154.123",
         "48.79",
         "0",
         "4",
         "15",
         "5"
        ],
        [
         "3",
         "4",
         "2024-05-03 09:01:14",
         "782.39",
         "Rebecca Davis",
         "Berg Inc",
         "5968",
         "North Krystalburgh",
         "Android",
         "130.70.79.149",
         "8.71",
         "0",
         "4",
         "9",
         "5"
        ],
        [
         "4",
         "5",
         "2025-04-24 17:24:39",
         "713.02",
         "Lauren Benson DDS",
         "King-Gaines",
         "5968",
         "East Danielletown",
         "Android",
         "195.136.16.190",
         "17.16",
         "0",
         "3",
         "17",
         "4"
        ]
       ],
       "shape": {
        "columns": 14,
        "rows": 5
       }
      },
      "text/html": [
       "<div>\n",
       "<style scoped>\n",
       "    .dataframe tbody tr th:only-of-type {\n",
       "        vertical-align: middle;\n",
       "    }\n",
       "\n",
       "    .dataframe tbody tr th {\n",
       "        vertical-align: top;\n",
       "    }\n",
       "\n",
       "    .dataframe thead th {\n",
       "        text-align: right;\n",
       "    }\n",
       "</style>\n",
       "<table border=\"1\" class=\"dataframe\">\n",
       "  <thead>\n",
       "    <tr style=\"text-align: right;\">\n",
       "      <th></th>\n",
       "      <th>TransactionID</th>\n",
       "      <th>Time</th>\n",
       "      <th>Amount</th>\n",
       "      <th>CardholderName</th>\n",
       "      <th>MerchantName</th>\n",
       "      <th>MCC</th>\n",
       "      <th>Location</th>\n",
       "      <th>Device</th>\n",
       "      <th>IPAddress</th>\n",
       "      <th>TransactionSpeed</th>\n",
       "      <th>Fraud</th>\n",
       "      <th>Weekday</th>\n",
       "      <th>Hour</th>\n",
       "      <th>Month</th>\n",
       "    </tr>\n",
       "  </thead>\n",
       "  <tbody>\n",
       "    <tr>\n",
       "      <th>0</th>\n",
       "      <td>1</td>\n",
       "      <td>2025-03-09 06:23:57</td>\n",
       "      <td>83.54</td>\n",
       "      <td>Sarah Murray</td>\n",
       "      <td>Oconnor-Hughes</td>\n",
       "      <td>5411</td>\n",
       "      <td>Longtown</td>\n",
       "      <td>Android</td>\n",
       "      <td>102.247.49.50</td>\n",
       "      <td>38.17</td>\n",
       "      <td>0</td>\n",
       "      <td>6</td>\n",
       "      <td>6</td>\n",
       "      <td>3</td>\n",
       "    </tr>\n",
       "    <tr>\n",
       "      <th>1</th>\n",
       "      <td>2</td>\n",
       "      <td>2025-02-14 05:17:36</td>\n",
       "      <td>805.88</td>\n",
       "      <td>Alexander Brooks</td>\n",
       "      <td>Reed PLC</td>\n",
       "      <td>5261</td>\n",
       "      <td>Woodsland</td>\n",
       "      <td>POS</td>\n",
       "      <td>153.157.50.7</td>\n",
       "      <td>49.84</td>\n",
       "      <td>0</td>\n",
       "      <td>4</td>\n",
       "      <td>5</td>\n",
       "      <td>2</td>\n",
       "    </tr>\n",
       "    <tr>\n",
       "      <th>2</th>\n",
       "      <td>3</td>\n",
       "      <td>2024-05-03 15:28:52</td>\n",
       "      <td>450.49</td>\n",
       "      <td>Harold Perez</td>\n",
       "      <td>Berry LLC</td>\n",
       "      <td>5261</td>\n",
       "      <td>Jessicatown</td>\n",
       "      <td>iOS</td>\n",
       "      <td>151.174.154.123</td>\n",
       "      <td>48.79</td>\n",
       "      <td>0</td>\n",
       "      <td>4</td>\n",
       "      <td>15</td>\n",
       "      <td>5</td>\n",
       "    </tr>\n",
       "    <tr>\n",
       "      <th>3</th>\n",
       "      <td>4</td>\n",
       "      <td>2024-05-03 09:01:14</td>\n",
       "      <td>782.39</td>\n",
       "      <td>Rebecca Davis</td>\n",
       "      <td>Berg Inc</td>\n",
       "      <td>5968</td>\n",
       "      <td>North Krystalburgh</td>\n",
       "      <td>Android</td>\n",
       "      <td>130.70.79.149</td>\n",
       "      <td>8.71</td>\n",
       "      <td>0</td>\n",
       "      <td>4</td>\n",
       "      <td>9</td>\n",
       "      <td>5</td>\n",
       "    </tr>\n",
       "    <tr>\n",
       "      <th>4</th>\n",
       "      <td>5</td>\n",
       "      <td>2025-04-24 17:24:39</td>\n",
       "      <td>713.02</td>\n",
       "      <td>Lauren Benson DDS</td>\n",
       "      <td>King-Gaines</td>\n",
       "      <td>5968</td>\n",
       "      <td>East Danielletown</td>\n",
       "      <td>Android</td>\n",
       "      <td>195.136.16.190</td>\n",
       "      <td>17.16</td>\n",
       "      <td>0</td>\n",
       "      <td>3</td>\n",
       "      <td>17</td>\n",
       "      <td>4</td>\n",
       "    </tr>\n",
       "  </tbody>\n",
       "</table>\n",
       "</div>"
      ],
      "text/plain": [
       "   TransactionID                Time  Amount     CardholderName  \\\n",
       "0              1 2025-03-09 06:23:57   83.54       Sarah Murray   \n",
       "1              2 2025-02-14 05:17:36  805.88   Alexander Brooks   \n",
       "2              3 2024-05-03 15:28:52  450.49       Harold Perez   \n",
       "3              4 2024-05-03 09:01:14  782.39      Rebecca Davis   \n",
       "4              5 2025-04-24 17:24:39  713.02  Lauren Benson DDS   \n",
       "\n",
       "     MerchantName   MCC            Location   Device        IPAddress  \\\n",
       "0  Oconnor-Hughes  5411            Longtown  Android    102.247.49.50   \n",
       "1        Reed PLC  5261           Woodsland      POS     153.157.50.7   \n",
       "2       Berry LLC  5261         Jessicatown      iOS  151.174.154.123   \n",
       "3        Berg Inc  5968  North Krystalburgh  Android    130.70.79.149   \n",
       "4     King-Gaines  5968   East Danielletown  Android   195.136.16.190   \n",
       "\n",
       "   TransactionSpeed  Fraud  Weekday  Hour  Month  \n",
       "0             38.17      0        6     6      3  \n",
       "1             49.84      0        4     5      2  \n",
       "2             48.79      0        4    15      5  \n",
       "3              8.71      0        4     9      5  \n",
       "4             17.16      0        3    17      4  "
      ]
     },
     "execution_count": 6,
     "metadata": {},
     "output_type": "execute_result"
    }
   ],
   "source": [
    "df.head()"
   ]
  },
  {
   "cell_type": "code",
   "execution_count": 7,
   "id": "a4272d18",
   "metadata": {},
   "outputs": [
    {
     "data": {
      "application/vnd.microsoft.datawrangler.viewer.v0+json": {
       "columns": [
        {
         "name": "index",
         "rawType": "object",
         "type": "string"
        },
        {
         "name": "TransactionID",
         "rawType": "float64",
         "type": "float"
        },
        {
         "name": "Time",
         "rawType": "object",
         "type": "unknown"
        },
        {
         "name": "Amount",
         "rawType": "float64",
         "type": "float"
        },
        {
         "name": "TransactionSpeed",
         "rawType": "float64",
         "type": "float"
        },
        {
         "name": "Fraud",
         "rawType": "float64",
         "type": "float"
        },
        {
         "name": "Weekday",
         "rawType": "float64",
         "type": "float"
        },
        {
         "name": "Hour",
         "rawType": "float64",
         "type": "float"
        },
        {
         "name": "Month",
         "rawType": "float64",
         "type": "float"
        }
       ],
       "conversionMethod": "pd.DataFrame",
       "ref": "3e620f3e-93b5-4807-b788-a7dd959994b0",
       "rows": [
        [
         "count",
         "10000.0",
         "10000",
         "10000.0",
         "10000.0",
         "10000.0",
         "10000.0",
         "10000.0",
         "10000.0"
        ],
        [
         "mean",
         "5000.5",
         "2024-10-30 03:27:20.494300160",
         "547.3474909999999",
         "30.738446000000003",
         "0.0192",
         "2.9954",
         "11.5255",
         "6.5283"
        ],
        [
         "min",
         "1.0",
         "2024-05-01 07:29:17",
         "10.09",
         "0.11",
         "0.0",
         "0.0",
         "0.0",
         "1.0"
        ],
        [
         "25%",
         "2500.75",
         "2024-07-31 11:55:39.500000",
         "263.2225",
         "14.91",
         "0.0",
         "1.0",
         "6.0",
         "4.0"
        ],
        [
         "50%",
         "5000.5",
         "2024-10-30 22:49:50",
         "512.24",
         "29.655",
         "0.0",
         "3.0",
         "12.0",
         "7.0"
        ],
        [
         "75%",
         "7500.25",
         "2025-01-28 03:57:06.750000128",
         "759.935",
         "45.27",
         "0.0",
         "5.0",
         "17.0",
         "10.0"
        ],
        [
         "max",
         "10000.0",
         "2025-05-01 09:39:46",
         "4988.07",
         "119.86",
         "1.0",
         "6.0",
         "23.0",
         "12.0"
        ],
        [
         "std",
         "2886.8956799071675",
         null,
         "460.04732855355854",
         "19.092344968827817",
         "0.13723426439607725",
         "1.9916263448623477",
         "6.932341270130067",
         "3.4677949290820265"
        ]
       ],
       "shape": {
        "columns": 8,
        "rows": 8
       }
      },
      "text/html": [
       "<div>\n",
       "<style scoped>\n",
       "    .dataframe tbody tr th:only-of-type {\n",
       "        vertical-align: middle;\n",
       "    }\n",
       "\n",
       "    .dataframe tbody tr th {\n",
       "        vertical-align: top;\n",
       "    }\n",
       "\n",
       "    .dataframe thead th {\n",
       "        text-align: right;\n",
       "    }\n",
       "</style>\n",
       "<table border=\"1\" class=\"dataframe\">\n",
       "  <thead>\n",
       "    <tr style=\"text-align: right;\">\n",
       "      <th></th>\n",
       "      <th>TransactionID</th>\n",
       "      <th>Time</th>\n",
       "      <th>Amount</th>\n",
       "      <th>TransactionSpeed</th>\n",
       "      <th>Fraud</th>\n",
       "      <th>Weekday</th>\n",
       "      <th>Hour</th>\n",
       "      <th>Month</th>\n",
       "    </tr>\n",
       "  </thead>\n",
       "  <tbody>\n",
       "    <tr>\n",
       "      <th>count</th>\n",
       "      <td>10000.00000</td>\n",
       "      <td>10000</td>\n",
       "      <td>10000.000000</td>\n",
       "      <td>10000.000000</td>\n",
       "      <td>10000.000000</td>\n",
       "      <td>10000.000000</td>\n",
       "      <td>10000.000000</td>\n",
       "      <td>10000.000000</td>\n",
       "    </tr>\n",
       "    <tr>\n",
       "      <th>mean</th>\n",
       "      <td>5000.50000</td>\n",
       "      <td>2024-10-30 03:27:20.494300160</td>\n",
       "      <td>547.347491</td>\n",
       "      <td>30.738446</td>\n",
       "      <td>0.019200</td>\n",
       "      <td>2.995400</td>\n",
       "      <td>11.525500</td>\n",
       "      <td>6.528300</td>\n",
       "    </tr>\n",
       "    <tr>\n",
       "      <th>min</th>\n",
       "      <td>1.00000</td>\n",
       "      <td>2024-05-01 07:29:17</td>\n",
       "      <td>10.090000</td>\n",
       "      <td>0.110000</td>\n",
       "      <td>0.000000</td>\n",
       "      <td>0.000000</td>\n",
       "      <td>0.000000</td>\n",
       "      <td>1.000000</td>\n",
       "    </tr>\n",
       "    <tr>\n",
       "      <th>25%</th>\n",
       "      <td>2500.75000</td>\n",
       "      <td>2024-07-31 11:55:39.500000</td>\n",
       "      <td>263.222500</td>\n",
       "      <td>14.910000</td>\n",
       "      <td>0.000000</td>\n",
       "      <td>1.000000</td>\n",
       "      <td>6.000000</td>\n",
       "      <td>4.000000</td>\n",
       "    </tr>\n",
       "    <tr>\n",
       "      <th>50%</th>\n",
       "      <td>5000.50000</td>\n",
       "      <td>2024-10-30 22:49:50</td>\n",
       "      <td>512.240000</td>\n",
       "      <td>29.655000</td>\n",
       "      <td>0.000000</td>\n",
       "      <td>3.000000</td>\n",
       "      <td>12.000000</td>\n",
       "      <td>7.000000</td>\n",
       "    </tr>\n",
       "    <tr>\n",
       "      <th>75%</th>\n",
       "      <td>7500.25000</td>\n",
       "      <td>2025-01-28 03:57:06.750000128</td>\n",
       "      <td>759.935000</td>\n",
       "      <td>45.270000</td>\n",
       "      <td>0.000000</td>\n",
       "      <td>5.000000</td>\n",
       "      <td>17.000000</td>\n",
       "      <td>10.000000</td>\n",
       "    </tr>\n",
       "    <tr>\n",
       "      <th>max</th>\n",
       "      <td>10000.00000</td>\n",
       "      <td>2025-05-01 09:39:46</td>\n",
       "      <td>4988.070000</td>\n",
       "      <td>119.860000</td>\n",
       "      <td>1.000000</td>\n",
       "      <td>6.000000</td>\n",
       "      <td>23.000000</td>\n",
       "      <td>12.000000</td>\n",
       "    </tr>\n",
       "    <tr>\n",
       "      <th>std</th>\n",
       "      <td>2886.89568</td>\n",
       "      <td>NaN</td>\n",
       "      <td>460.047329</td>\n",
       "      <td>19.092345</td>\n",
       "      <td>0.137234</td>\n",
       "      <td>1.991626</td>\n",
       "      <td>6.932341</td>\n",
       "      <td>3.467795</td>\n",
       "    </tr>\n",
       "  </tbody>\n",
       "</table>\n",
       "</div>"
      ],
      "text/plain": [
       "       TransactionID                           Time        Amount  \\\n",
       "count    10000.00000                          10000  10000.000000   \n",
       "mean      5000.50000  2024-10-30 03:27:20.494300160    547.347491   \n",
       "min          1.00000            2024-05-01 07:29:17     10.090000   \n",
       "25%       2500.75000     2024-07-31 11:55:39.500000    263.222500   \n",
       "50%       5000.50000            2024-10-30 22:49:50    512.240000   \n",
       "75%       7500.25000  2025-01-28 03:57:06.750000128    759.935000   \n",
       "max      10000.00000            2025-05-01 09:39:46   4988.070000   \n",
       "std       2886.89568                            NaN    460.047329   \n",
       "\n",
       "       TransactionSpeed         Fraud       Weekday          Hour  \\\n",
       "count      10000.000000  10000.000000  10000.000000  10000.000000   \n",
       "mean          30.738446      0.019200      2.995400     11.525500   \n",
       "min            0.110000      0.000000      0.000000      0.000000   \n",
       "25%           14.910000      0.000000      1.000000      6.000000   \n",
       "50%           29.655000      0.000000      3.000000     12.000000   \n",
       "75%           45.270000      0.000000      5.000000     17.000000   \n",
       "max          119.860000      1.000000      6.000000     23.000000   \n",
       "std           19.092345      0.137234      1.991626      6.932341   \n",
       "\n",
       "              Month  \n",
       "count  10000.000000  \n",
       "mean       6.528300  \n",
       "min        1.000000  \n",
       "25%        4.000000  \n",
       "50%        7.000000  \n",
       "75%       10.000000  \n",
       "max       12.000000  \n",
       "std        3.467795  "
      ]
     },
     "execution_count": 7,
     "metadata": {},
     "output_type": "execute_result"
    }
   ],
   "source": [
    "df.describe()"
   ]
  },
  {
   "cell_type": "code",
   "execution_count": null,
   "id": "631cd5f8",
   "metadata": {},
   "outputs": [
    {
     "data": {
      "text/plain": [
       "Amount              0\n",
       "MerchantName        0\n",
       "MCC                 0\n",
       "Location            0\n",
       "Device              0\n",
       "TransactionSpeed    0\n",
       "Fraud               0\n",
       "Weekday             0\n",
       "Hour                0\n",
       "Month               0\n",
       "dtype: int64"
      ]
     },
     "execution_count": 8,
     "metadata": {},
     "output_type": "execute_result"
    }
   ],
   "source": [
    "df = df.drop(['CardholderName','TransactionID', 'Time', 'IPAddress'], axis=1)\n",
    "df.isna().sum()"
   ]
  },
  {
   "cell_type": "code",
   "execution_count": 9,
   "id": "106047a2",
   "metadata": {},
   "outputs": [
    {
     "data": {
      "text/plain": [
       "{'whiskers': [<matplotlib.lines.Line2D at 0x7311d2383a10>,\n",
       "  <matplotlib.lines.Line2D at 0x7311d30d4a50>],\n",
       " 'caps': [<matplotlib.lines.Line2D at 0x7311d30d53d0>,\n",
       "  <matplotlib.lines.Line2D at 0x7311d30d5f50>],\n",
       " 'boxes': [<matplotlib.lines.Line2D at 0x7311d3db9950>],\n",
       " 'medians': [<matplotlib.lines.Line2D at 0x7311d30d6950>],\n",
       " 'fliers': [<matplotlib.lines.Line2D at 0x7311d30d7450>],\n",
       " 'means': []}"
      ]
     },
     "execution_count": 9,
     "metadata": {},
     "output_type": "execute_result"
    },
    {
     "data": {
      "image/png": "[encoded data removed]",
      "text/plain": [
       "<Figure size 640x480 with 1 Axes>"
      ]
     },
     "metadata": {},
     "output_type": "display_data"
    }
   ],
   "source": [
    "plt.boxplot(df['Amount'])"
   ]
  },
  {
   "cell_type": "code",
   "execution_count": 10,
   "id": "39ae9ce8",
   "metadata": {},
   "outputs": [
    {
     "data": {
      "text/plain": [
       "{'whiskers': [<matplotlib.lines.Line2D at 0x7311d317dbd0>,\n",
       "  <matplotlib.lines.Line2D at 0x7311d317e710>],\n",
       " 'caps': [<matplotlib.lines.Line2D at 0x7311d317f310>,\n",
       "  <matplotlib.lines.Line2D at 0x7311d317fe90>],\n",
       " 'boxes': [<matplotlib.lines.Line2D at 0x7311d317cf50>],\n",
       " 'medians': [<matplotlib.lines.Line2D at 0x7311d318ca10>],\n",
       " 'fliers': [<matplotlib.lines.Line2D at 0x7311d318d550>],\n",
       " 'means': []}"
      ]
     },
     "execution_count": 10,
     "metadata": {},
     "output_type": "execute_result"
    },
    {
     "data": {
      "image/png": "[encoded data removed]",
      "text/plain": [
       "<Figure size 640x480 with 1 Axes>"
      ]
     },
     "metadata": {},
     "output_type": "display_data"
    }
   ],
   "source": [
    "plt.boxplot(df['TransactionSpeed'])"
   ]
  },
  {
   "cell_type": "code",
   "execution_count": 11,
   "id": "79b74e92",
   "metadata": {},
   "outputs": [],
   "source": [
    "# IQR Amount\n",
    "q1 = df['Amount'].quantile(0.25)\n",
    "q3 = df['Amount'].quantile(0.75)\n",
    "iqr = q3 - q1\n",
    "\n",
    "limite_superior = q3 + 1.5 * iqr\n",
    "\n",
    "df['is_large_amount'] = (df['Amount'] > limite_superior).astype(int)\n",
    "\n",
    "\n",
    "# IQR TransactionSpeed\n",
    "q1 = df['TransactionSpeed'].quantile(0.25)\n",
    "q3 = df['TransactionSpeed'].quantile(0.75)\n",
    "iqr = q3 - q1\n",
    "\n",
    "limite_superior = q3 + 1.5 * iqr\n",
    "\n",
    "df['is_slow_transaction'] = (df['TransactionSpeed'] > limite_superior).astype(int)\n"
   ]
  },
  {
   "cell_type": "code",
   "execution_count": 12,
   "id": "7897a9fe",
   "metadata": {},
   "outputs": [
    {
     "name": "stdout",
     "output_type": "stream",
     "text": [
      "Proporciones\n",
      "Fraudes: 0.0192\n",
      "No fraudes: 0.9808\n"
     ]
    }
   ],
   "source": [
    "#Data desbalanceada\n",
    "fraudes = (df['Fraud'] == 0).sum()\n",
    "noFraudes = (df['Fraud'] == 1).sum()\n",
    "\n",
    "print('Proporciones')\n",
    "print(f'Fraudes: {noFraudes/ (fraudes+noFraudes)}')\n",
    "print(f'No fraudes: {fraudes/ (fraudes+noFraudes)}')"
   ]
  },
  {
   "cell_type": "code",
   "execution_count": 13,
   "id": "b49b90a6",
   "metadata": {},
   "outputs": [],
   "source": [
    "categoricFeatures = ['MerchantName','Location', 'MCC', 'Device']\n",
    "numericFeatures = ['Amount', 'Hour', 'TransactionSpeed', 'is_slow_transaction', 'is_large_amount']\n",
    "all_features = numericFeatures + categoricFeatures\n",
    "\n",
    "\n",
    "#Normalizacion para categoricas\n",
    "for col in categoricFeatures:\n",
    "      df[col] = LabelEncoder().fit_transform(df[col])\n",
    "\n",
    "#Normalizacion para numericas y categoricas\n",
    "df[all_features] = scaler.fit_transform(df[all_features])"
   ]
  },
  {
   "cell_type": "code",
   "execution_count": 14,
   "id": "2be5e435",
   "metadata": {},
   "outputs": [],
   "source": [
    "X = df.drop('Fraud', axis=1)\n",
    "y = df['Fraud']\n",
    "\n",
    "X_train, X_test, y_train, y_test = train_test_split(\n",
    "    X, y, test_size=0.2, random_state=42, stratify=y\n",
    ")"
   ]
  },
  {
   "cell_type": "code",
   "execution_count": 15,
   "id": "7ad65ea3",
   "metadata": {},
   "outputs": [
    {
     "name": "stdout",
     "output_type": "stream",
     "text": [
      "is_large_amount: 6368.51\n",
      "is_slow_transaction: 4126.79\n",
      "Amount: 306.06\n",
      "TransactionSpeed: 154.70\n",
      "Month: 3.95\n",
      "Weekday: 0.41\n",
      "MCC: 0.28\n",
      "Hour: 0.19\n",
      "Device: 0.16\n",
      "MerchantName: 0.05\n",
      "Location: 0.00\n"
     ]
    }
   ],
   "source": [
    "selector = SelectKBest(score_func=chi2, k='all')\n",
    "selector.fit(X_train, y_train)\n",
    "\n",
    "relevance = []\n",
    "\n",
    "for feature, score in zip(X_train.columns, selector.scores_):\n",
    "    relevance.append((feature, score))\n",
    "\n",
    "relevance.sort(key=lambda x: x[1], reverse=True)\n",
    "\n",
    "for feature, score in relevance:\n",
    "    print(f\"{feature}: {score:.2f}\")"
   ]
  },
  {
   "cell_type": "code",
   "execution_count": 16,
   "id": "9d08d984",
   "metadata": {},
   "outputs": [
    {
     "name": "stdout",
     "output_type": "stream",
     "text": [
      "Distribución original en el conjunto de entrenamiento:\n",
      "Fraud\n",
      "0    7846\n",
      "1     154\n",
      "Name: count, dtype: int64\n"
     ]
    }
   ],
   "source": [
    "print(\"Distribución original en el conjunto de entrenamiento:\")\n",
    "print(pd.Series(y_train).value_counts())"
   ]
  },
  {
   "cell_type": "markdown",
   "id": "8b553689",
   "metadata": {},
   "source": [
    "### Aplicamos tecnica: NearMiss-3"
   ]
  },
  {
   "cell_type": "code",
   "execution_count": 17,
   "id": "537145dc",
   "metadata": {},
   "outputs": [
    {
     "name": "stdout",
     "output_type": "stream",
     "text": [
      "Distribución después de aplicar NearMiss-3:\n",
      "Fraud\n",
      "0    154\n",
      "1    154\n",
      "Name: count, dtype: int64\n"
     ]
    }
   ],
   "source": [
    "nm = NearMiss(\n",
    "    version=3,           # NearMiss-3\n",
    "    n_neighbors=3,       # Número de vecinos para considerar\n",
    "    n_neighbors_ver3=3   # Para versión 3, cuántos vecinos considerar para la selección\n",
    ")\n",
    "\n",
    "X_resampled, y_resampled = nm.fit_resample(X_train, y_train)\n",
    "\n",
    "print(\"Distribución después de aplicar NearMiss-3:\")\n",
    "print(pd.Series(y_resampled).value_counts())"
   ]
  },
  {
   "cell_type": "code",
   "execution_count": 18,
   "id": "cebb30f4",
   "metadata": {},
   "outputs": [
    {
     "name": "stdout",
     "output_type": "stream",
     "text": [
      "is_large_amount: 125.00\n",
      "is_slow_transaction: 81.00\n",
      "Amount: 44.19\n",
      "TransactionSpeed: 23.14\n",
      "Weekday: 1.24\n",
      "Month: 0.63\n",
      "Device: 0.57\n",
      "MCC: 0.12\n",
      "MerchantName: 0.07\n",
      "Location: 0.07\n",
      "Hour: 0.07\n"
     ]
    }
   ],
   "source": [
    "selector = SelectKBest(score_func=chi2, k='all')\n",
    "selector.fit(X_resampled, y_resampled)\n",
    "\n",
    "relevance = []\n",
    "\n",
    "for feature, score in zip(X_train.columns, selector.scores_):\n",
    "    relevance.append((feature, score))\n",
    "\n",
    "relevance.sort(key=lambda x: x[1], reverse=True)\n",
    "\n",
    "for feature, score in relevance:\n",
    "    print(f\"{feature}: {score:.2f}\")"
   ]
  },
  {
   "cell_type": "markdown",
   "id": "2b28318b",
   "metadata": {},
   "source": [
    "## GaussianNB"
   ]
  },
  {
   "cell_type": "code",
   "execution_count": 19,
   "id": "6740f7b6",
   "metadata": {},
   "outputs": [],
   "source": [
    "model = GaussianNB()\n",
    "model.fit(X_resampled, y_resampled)\n",
    "y_pred_gnb = model.predict(X_test)"
   ]
  },
  {
   "cell_type": "code",
   "execution_count": 20,
   "id": "cd3c21ff",
   "metadata": {},
   "outputs": [
    {
     "name": "stdout",
     "output_type": "stream",
     "text": [
      "              precision    recall  f1-score   support\n",
      "\n",
      "           0       1.00      1.00      1.00      1962\n",
      "           1       1.00      0.84      0.91        38\n",
      "\n",
      "    accuracy                           1.00      2000\n",
      "   macro avg       1.00      0.92      0.96      2000\n",
      "weighted avg       1.00      1.00      1.00      2000\n",
      "\n"
     ]
    }
   ],
   "source": [
    "print(classification_report(y_test, y_pred_gnb))"
   ]
  },
  {
   "cell_type": "code",
   "execution_count": 21,
   "id": "ab38da8c",
   "metadata": {},
   "outputs": [
    {
     "name": "stdout",
     "output_type": "stream",
     "text": [
      "[[1962    0]\n",
      " [   6   32]]\n"
     ]
    }
   ],
   "source": [
    "print(confusion_matrix(y_test, y_pred_gnb))"
   ]
  },
  {
   "cell_type": "code",
   "execution_count": 22,
   "id": "71cf67d0",
   "metadata": {},
   "outputs": [],
   "source": [
    "#ROC inicializacion\n",
    "\n",
    "y_proba_gnb = model.predict_proba(X_test)[:, 1]\n",
    "fpr_gnb, tpr_gnb, _ = roc_curve(y_test, y_proba_gnb)\n",
    "auc_gnb = auc(fpr_gnb, tpr_gnb)"
   ]
  },
  {
   "cell_type": "markdown",
   "id": "4f2c6448",
   "metadata": {},
   "source": [
    "## BenoulliNB"
   ]
  },
  {
   "cell_type": "code",
   "execution_count": 23,
   "id": "ff888e70",
   "metadata": {},
   "outputs": [],
   "source": [
    "#TODO pasar a binarias"
   ]
  },
  {
   "cell_type": "code",
   "execution_count": 24,
   "id": "7dfa7106",
   "metadata": {},
   "outputs": [
    {
     "name": "stdout",
     "output_type": "stream",
     "text": [
      "              precision    recall  f1-score   support\n",
      "\n",
      "           0       1.00      1.00      1.00      1962\n",
      "           1       1.00      0.84      0.91        38\n",
      "\n",
      "    accuracy                           1.00      2000\n",
      "   macro avg       1.00      0.92      0.96      2000\n",
      "weighted avg       1.00      1.00      1.00      2000\n",
      "\n",
      "[[1962    0]\n",
      " [   6   32]]\n"
     ]
    }
   ],
   "source": [
    "model = BernoulliNB()\n",
    "model.fit(X_resampled, y_resampled)\n",
    "y_pred = model.predict(X_test)\n",
    "\n",
    "print(classification_report(y_test, y_pred))\n",
    "print(confusion_matrix(y_test, y_pred))\n"
   ]
  },
  {
   "cell_type": "markdown",
   "id": "18f3b8f3",
   "metadata": {},
   "source": [
    "## Multilayer Perceptron"
   ]
  },
  {
   "cell_type": "code",
   "execution_count": 25,
   "id": "464ac5fd",
   "metadata": {},
   "outputs": [
    {
     "name": "stderr",
     "output_type": "stream",
     "text": [
      "/home/giorgio6846/Code/Clases/Machine Learning/.conda/lib/python3.11/site-packages/sklearn/neural_network/_multilayer_perceptron.py:691: ConvergenceWarning: Stochastic Optimizer: Maximum iterations (500) reached and the optimization hasn't converged yet.\n",
      "  warnings.warn(\n"
     ]
    }
   ],
   "source": [
    "mlp = MLPClassifier(hidden_layer_sizes=(10, 5), max_iter=500, random_state=42)\n",
    "mlp.fit(X_resampled, y_resampled)\n",
    "y_pred_mlp = mlp.predict(X_test)"
   ]
  },
  {
   "cell_type": "code",
   "execution_count": 26,
   "id": "93bc0b31",
   "metadata": {},
   "outputs": [
    {
     "name": "stdout",
     "output_type": "stream",
     "text": [
      "[[1952   10]\n",
      " [   4   34]]\n"
     ]
    }
   ],
   "source": [
    "print(confusion_matrix(y_test, y_pred_mlp))"
   ]
  },
  {
   "cell_type": "code",
   "execution_count": 27,
   "id": "31c4daf4",
   "metadata": {},
   "outputs": [],
   "source": [
    "#ROC inicializacion\n",
    "\n",
    "y_proba_mlp = mlp.predict_proba(X_test)[:, 1]\n",
    "fpr_mlp, tpr_mlp, _ = roc_curve(y_test, y_proba_mlp)\n",
    "auc_mlp = auc(fpr_mlp, tpr_mlp)"
   ]
  },
  {
   "cell_type": "code",
   "execution_count": 28,
   "id": "a66809de",
   "metadata": {},
   "outputs": [
    {
     "data": {
      "image/png": "[encoded data removed]",
      "text/plain": [
       "<Figure size 800x600 with 1 Axes>"
      ]
     },
     "metadata": {},
     "output_type": "display_data"
    }
   ],
   "source": [
    "plt.figure(figsize=(8,6))\n",
    "plt.plot(fpr_gnb, tpr_gnb, label=f'Naive Bayes (AUC = {auc_gnb:.2f})', linestyle='--')\n",
    "plt.plot(fpr_mlp, tpr_mlp, label=f'MLP (AUC = {auc_mlp:.2f})', linestyle='-')\n",
    "plt.plot([0, 1], [0, 1], 'k--', label='Random Guessing')\n",
    "plt.xlabel('False Positive Rate')\n",
    "plt.ylabel('True Positive Rate')\n",
    "plt.title('ROC Curve - GNB vs MLP')\n",
    "plt.legend()\n",
    "plt.grid()\n",
    "plt.show()"
   ]
  }
 ],
 "metadata": {
  "kernelspec": {
   "display_name": "Python 3",
   "language": "python",
   "name": "python3"
  },
  "language_info": {
   "codemirror_mode": {
    "name": "ipython",
    "version": 3
   },
   "file_extension": ".py",
   "mimetype": "text/x-python",
   "name": "python",
   "nbconvert_exporter": "python",
   "pygments_lexer": "ipython3",
   "version": "3.11.11"
  }
 },
 "nbformat": 4,
 "nbformat_minor": 5
}
